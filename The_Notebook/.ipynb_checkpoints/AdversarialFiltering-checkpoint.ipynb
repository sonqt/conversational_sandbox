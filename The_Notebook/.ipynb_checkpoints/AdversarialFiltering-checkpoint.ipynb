{
 "cells": [
  {
   "cell_type": "code",
   "execution_count": 1,
   "id": "89b19c6c-60ef-481b-be30-4eb602da9cd3",
   "metadata": {},
   "outputs": [],
   "source": [
    "import os\n",
    "from convokit import download, Corpus\n",
    "import numpy as np\n",
    "import pandas as pd\n",
    "import matplotlib.pyplot as plt"
   ]
  },
  {
   "cell_type": "code",
   "execution_count": 2,
   "id": "a2b42de0-2552-46e8-aec9-2c61a20f90e7",
   "metadata": {},
   "outputs": [
    {
     "name": "stdout",
     "output_type": "stream",
     "text": [
      "Dataset already exists at /home/sqt2/.convokit/downloads/conversations-gone-awry-corpus\n",
      "Dataset already exists at /home/sqt2/.convokit/downloads/conversations-gone-awry-cmv-corpus\n"
     ]
    }
   ],
   "source": [
    "wikicorpus = Corpus(filename=download(\"conversations-gone-awry-corpus\"))\n",
    "cmvcorpus = Corpus(filename=download(\"conversations-gone-awry-cmv-corpus\"))"
   ]
  },
  {
   "cell_type": "code",
   "execution_count": 16,
   "id": "1b312c30-bb48-4156-894b-6aa5bcf2c999",
   "metadata": {},
   "outputs": [],
   "source": [
    "def get_preds(saved_path):\n",
    "    predictions = {}\n",
    "    all_seeds = os.listdir(saved_path)\n",
    "    num_seed = len(all_seeds)\n",
    "    for seed in all_seeds:\n",
    "        pred_path = os.path.join(saved_path, seed, \"train_predictions.csv\")\n",
    "        pred_file = open(pred_path, 'r')\n",
    "        pred_lines = pred_file.readlines()[1:]\n",
    "        for line in pred_lines:\n",
    "            id2pred = line.split(\",\")\n",
    "            \n",
    "            assert len(id2pred) == 3\n",
    "            utt_id = id2pred[0]\n",
    "            utt_pred = id2pred[2]\n",
    "            if utt_id not in predictions:\n",
    "                predictions[utt_id] = float(utt_pred)\n",
    "            else:\n",
    "                predictions[utt_id] += float(utt_pred)\n",
    "    for utt_id in predictions:\n",
    "        predictions[utt_id] /= num_seed\n",
    "    return predictions\n",
    "    \n",
    "def get_hard_neg(saved_path, corpus, low_threshold=0.5, high_threshold=1.0):\n",
    "    num_neg = 0\n",
    "    label_metadata = \"conversation_has_personal_attack\" if \"wikiconv\" in saved_path else \"has_removed_comment\"\n",
    "    predictions = get_preds(saved_path)\n",
    "    hard_neg = []\n",
    "\n",
    "    for convo in corpus.iter_conversations():\n",
    "        if convo.meta['split'] == 'train':\n",
    "            if convo.meta[label_metadata] == False:\n",
    "                num_neg += 1\n",
    "                hard_id = None\n",
    "                hard_score = 0\n",
    "                for utterance in convo.iter_utterances():\n",
    "                    id = utterance.id\n",
    "                    try:\n",
    "                        if high_threshold > predictions[id] > low_threshold:\n",
    "                            if predictions[id] > hard_score:\n",
    "                                hard_id = id\n",
    "                                hard_score = predictions[id]\n",
    "                    except:\n",
    "                        continue\n",
    "                if hard_id:\n",
    "                    hard_neg.append(hard_id)\n",
    "    print(\"Number of negative samples in training set:\", num_neg)\n",
    "    print(\"Number of HARD negative samples in training set:\", len(hard_neg))\n",
    "    return hard_neg"
   ]
  },
  {
   "cell_type": "code",
   "execution_count": 17,
   "id": "8fd0e708-2a38-4e2f-a41d-bc1cd6bd81d6",
   "metadata": {},
   "outputs": [],
   "source": [
    "wikipred_path = \"/reef/sqt2/AdverFiltering/wikiconv/roberta-base\"\n",
    "cmvpred_path = \"/reef/sqt2/AdverFiltering/cmv/roberta-base\"\n"
   ]
  },
  {
   "cell_type": "code",
   "execution_count": 18,
   "id": "03076977-f6c7-4a1e-bbb7-d647faece016",
   "metadata": {},
   "outputs": [
    {
     "name": "stdout",
     "output_type": "stream",
     "text": [
      "Number of negative samples in training set: 1254\n",
      "Number of HARD negative samples in training set: 1254\n"
     ]
    }
   ],
   "source": [
    "import json\n",
    "to_save = {\"data\": get_hard_neg(wikipred_path, wikicorpus, 0)}\n",
    "with open('/home/sqt2/myExperiment/adversarial_filtering/hard_neg/wikiconv.json', 'w', encoding='utf-8') as f:\n",
    "    json.dump(to_save, f, ensure_ascii=False, indent=4)"
   ]
  },
  {
   "cell_type": "code",
   "execution_count": 19,
   "id": "b887cec0-9725-488e-80bc-66c7831691a9",
   "metadata": {},
   "outputs": [
    {
     "name": "stdout",
     "output_type": "stream",
     "text": [
      "Number of negative samples in training set: 2053\n",
      "Number of HARD negative samples in training set: 2053\n"
     ]
    }
   ],
   "source": [
    "to_save = {\"data\": get_hard_neg(cmvpred_path, cmvcorpus, 0)}\n",
    "with open('/home/sqt2/myExperiment/adversarial_filtering/hard_neg/cmv.json', 'w', encoding='utf-8') as f:\n",
    "    json.dump(to_save, f, ensure_ascii=False, indent=4)"
   ]
  },
  {
   "cell_type": "code",
   "execution_count": 20,
   "id": "f8ac4a58-322b-4c9a-9c2a-05ba7099c7e1",
   "metadata": {},
   "outputs": [
    {
     "name": "stdout",
     "output_type": "stream",
     "text": [
      "1254\n"
     ]
    }
   ],
   "source": [
    "# Opening JSON file\n",
    "import json\n",
    "f = open('/home/sqt2/myExperiment/adversarial_filtering/hard_neg/wikiconv.json')\n",
    "\n",
    "# returns JSON object as \n",
    "# a dictionary\n",
    "data = json.load(f)['data']\n",
    "print(len(data))"
   ]
  },
  {
   "cell_type": "code",
   "execution_count": null,
   "id": "4e007982-aa72-49a1-a52f-8afa288a7dc7",
   "metadata": {},
   "outputs": [],
   "source": []
  }
 ],
 "metadata": {
  "kernelspec": {
   "display_name": "jacq-zissou-env-3.11",
   "language": "python",
   "name": "jacq-zissou-env-3.11"
  },
  "language_info": {
   "codemirror_mode": {
    "name": "ipython",
    "version": 3
   },
   "file_extension": ".py",
   "mimetype": "text/x-python",
   "name": "python",
   "nbconvert_exporter": "python",
   "pygments_lexer": "ipython3",
   "version": "3.11.8"
  }
 },
 "nbformat": 4,
 "nbformat_minor": 5
}
