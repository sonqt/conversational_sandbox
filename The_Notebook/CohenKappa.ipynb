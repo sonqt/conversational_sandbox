{
 "cells": [
  {
   "cell_type": "code",
   "execution_count": 5,
   "id": "ba218a79-48be-4c33-a07f-9511e200e754",
   "metadata": {},
   "outputs": [],
   "source": [
    "import os\n",
    "from convokit import download, Corpus\n",
    "import numpy as np\n",
    "import pandas as pd\n",
    "from sklearn.metrics import cohen_kappa_score\n",
    "import matplotlib.pyplot as plt"
   ]
  },
  {
   "cell_type": "code",
   "execution_count": 2,
   "id": "aa572fa9-0384-4ca6-8460-c3c14acdb07e",
   "metadata": {},
   "outputs": [
    {
     "name": "stdout",
     "output_type": "stream",
     "text": [
      "Dataset already exists at /home/sqt2/.convokit/downloads/conversations-gone-awry-corpus\n",
      "Dataset already exists at /home/sqt2/.convokit/downloads/conversations-gone-awry-cmv-corpus\n"
     ]
    }
   ],
   "source": [
    "wikicorpus = Corpus(filename=download(\"conversations-gone-awry-corpus\"))\n",
    "cmvcorpus = Corpus(filename=download(\"conversations-gone-awry-cmv-corpus\"))"
   ]
  },
  {
   "cell_type": "code",
   "execution_count": 39,
   "id": "94caefe4-beac-42bd-9186-2602c3aaaf56",
   "metadata": {},
   "outputs": [],
   "source": [
    "def get_preds(pred_path):\n",
    "    pred_file = open(pred_path, 'r')\n",
    "    pred_lines = pred_file.readlines()[1:]\n",
    "    pred_dict = {}\n",
    "    for line in pred_lines:\n",
    "        id2pred = line.split(\",\")\n",
    "        \n",
    "        if len(id2pred) == 3:\n",
    "            utt_id = id2pred[0]\n",
    "            utt_pred = id2pred[1]\n",
    "            pred_dict[utt_id] = int(utt_pred)\n",
    "        elif len(id2pred) == 5:\n",
    "            utt_id = id2pred[0]\n",
    "            utt_pred = id2pred[4]\n",
    "            pred_dict[utt_id] = int(utt_pred)\n",
    "        else:\n",
    "            print(\"ERRORRRRR\")\n",
    "    return pred_dict\n",
    "def calculate_cohen_kappa(first, second, corpus, corpus_name):\n",
    "    label_metadata = \"conversation_has_personal_attack\" if corpus_name == \"wikiconv\" else \"has_removed_comment\"\n",
    "    first_preds = get_preds(first)\n",
    "    second_preds = get_preds(second)\n",
    "\n",
    "    first_convo_preds = []\n",
    "    second_convo_preds = []\n",
    "    labels = []\n",
    "    for convo in corpus.iter_conversations():\n",
    "        if convo.meta[\"split\"] == \"test\":\n",
    "            labels.append(int(convo.meta[label_metadata]))\n",
    "            utt_ids = []\n",
    "            for utt in convo.iter_utterances():\n",
    "                utt_ids.append(utt.id)\n",
    "            first_forecast_scores = [first_preds[id] for id in utt_ids if id in first_preds]\n",
    "            first_convo_preds.append(max(first_forecast_scores))\n",
    "            second_forecast_scores = [second_preds[id] for id in utt_ids if id in second_preds]\n",
    "            second_convo_preds.append(max(second_forecast_scores))\n",
    "    \n",
    "    return cohen_kappa_score(first_convo_preds, second_convo_preds)\n",
    "    "
   ]
  },
  {
   "cell_type": "code",
   "execution_count": 33,
   "id": "25b9f4a4-bcfc-4ee8-b969-0e66ae061161",
   "metadata": {},
   "outputs": [
    {
     "data": {
      "text/plain": [
       "0.47405660377358494"
      ]
     },
     "execution_count": 33,
     "metadata": {},
     "output_type": "execute_result"
    }
   ],
   "source": [
    "first = \"/reef/sqt2/BERTCRAFT_adversarial/wikiconv/roberta-base/seed-1/predictions.csv\"\n",
    "second = \"/reef/sqt2/SINGLE_UTT/wikiconv/roberta-base/seed-1/predictions.csv\"\n",
    "calculate_cohen_kappa(first,second, wikicorpus, \"wikiconv\")"
   ]
  },
  {
   "cell_type": "code",
   "execution_count": 24,
   "id": "29e92eb5-10b3-4601-a12b-f453c54aac5b",
   "metadata": {},
   "outputs": [
    {
     "data": {
      "text/plain": [
       "0.5094833224329627"
      ]
     },
     "execution_count": 24,
     "metadata": {},
     "output_type": "execute_result"
    }
   ],
   "source": [
    "first = \"/reef/sqt2/BERTCRAFT_adversarial/wikiconv/roberta-base/seed-3/predictions.csv\"\n",
    "second = \"/reef/sqt2/SINGLE_UTT/wikiconv/roberta-base/seed-1/predictions.csv\"\n",
    "calculate_cohen_kappa(first,second, wikicorpus, \"wikiconv\")"
   ]
  },
  {
   "cell_type": "code",
   "execution_count": 25,
   "id": "5cbb80ca-6e8a-4d01-8ed8-90e384608e6e",
   "metadata": {},
   "outputs": [
    {
     "data": {
      "text/plain": [
       "0.5096212138222151"
      ]
     },
     "execution_count": 25,
     "metadata": {},
     "output_type": "execute_result"
    }
   ],
   "source": [
    "first = \"/reef/sqt2/BERTCRAFT_adversarial/wikiconv/roberta-base/seed-3/predictions.csv\"\n",
    "second = \"/reef/sqt2/SINGLE_UTT/wikiconv/roberta-base/seed-2/predictions.csv\"\n",
    "calculate_cohen_kappa(first,second, wikicorpus, \"wikiconv\")"
   ]
  },
  {
   "cell_type": "code",
   "execution_count": 26,
   "id": "54b12241-3ddb-47eb-8142-b61257f90394",
   "metadata": {},
   "outputs": [
    {
     "data": {
      "text/plain": [
       "0.5150004573310162"
      ]
     },
     "execution_count": 26,
     "metadata": {},
     "output_type": "execute_result"
    }
   ],
   "source": [
    "first = \"/reef/sqt2/BERTCRAFT_adversarial/wikiconv/roberta-base/seed-3/predictions.csv\"\n",
    "second = \"/reef/sqt2/SINGLE_UTT/wikiconv/roberta-base/seed-3/predictions.csv\"\n",
    "calculate_cohen_kappa(first,second, wikicorpus, \"wikiconv\")"
   ]
  },
  {
   "cell_type": "code",
   "execution_count": 27,
   "id": "5650b905-91c3-4e07-b51d-9b658ef1a164",
   "metadata": {},
   "outputs": [
    {
     "data": {
      "text/plain": [
       "0.5536267823930564"
      ]
     },
     "execution_count": 27,
     "metadata": {},
     "output_type": "execute_result"
    }
   ],
   "source": [
    "first = \"/reef/sqt2/SINGLE_UTT/wikiconv/roberta-base/seed-2/predictions.csv\"\n",
    "second = \"/reef/sqt2/SINGLE_UTT/wikiconv/roberta-base/seed-1/predictions.csv\"\n",
    "calculate_cohen_kappa(first,second, wikicorpus, \"wikiconv\")"
   ]
  },
  {
   "cell_type": "code",
   "execution_count": 47,
   "id": "2897fad4-4241-4c03-8335-db50a61eff9c",
   "metadata": {},
   "outputs": [
    {
     "data": {
      "text/plain": [
       "0.29605263157894735"
      ]
     },
     "execution_count": 47,
     "metadata": {},
     "output_type": "execute_result"
    }
   ],
   "source": [
    "first = \"/reef/sqt2/BERTCRAFT_counterfactual/wikiconv/roberta-base/seed-3/counterfactual_final.csv\"\n",
    "second = \"/reef/sqt2/SINGLE_UTT/wikiconv/roberta-base/seed-1/predictions.csv\"\n",
    "calculate_cohen_kappa(first,second, wikicorpus, \"wikiconv\")"
   ]
  },
  {
   "cell_type": "code",
   "execution_count": null,
   "id": "f239a0e9-f971-40b1-8a53-1a39c6c34942",
   "metadata": {},
   "outputs": [],
   "source": []
  }
 ],
 "metadata": {
  "kernelspec": {
   "display_name": "jacq-zissou-env-3.11",
   "language": "python",
   "name": "jacq-zissou-env-3.11"
  },
  "language_info": {
   "codemirror_mode": {
    "name": "ipython",
    "version": 3
   },
   "file_extension": ".py",
   "mimetype": "text/x-python",
   "name": "python",
   "nbconvert_exporter": "python",
   "pygments_lexer": "ipython3",
   "version": "3.11.8"
  }
 },
 "nbformat": 4,
 "nbformat_minor": 5
}
