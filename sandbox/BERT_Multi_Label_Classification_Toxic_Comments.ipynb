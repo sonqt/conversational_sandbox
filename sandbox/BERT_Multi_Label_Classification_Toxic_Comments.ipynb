{
  "nbformat": 4,
  "nbformat_minor": 0,
  "metadata": {
    "colab": {
      "provenance": [],
      "collapsed_sections": [
        "Bt3HTo7LLMtj",
        "P5-THlhKepL5",
        "xNuteN1Fmju0"
      ]
    },
    "kernelspec": {
      "name": "python3",
      "display_name": "Python 3"
    },
    "accelerator": "GPU",
    "widgets": {
      "application/vnd.jupyter.widget-state+json": {
        "bab9a089ff4d43bf94bd939eafdf9457": {
          "model_module": "@jupyter-widgets/controls",
          "model_name": "HBoxModel",
          "model_module_version": "1.5.0",
          "state": {
            "_view_name": "HBoxView",
            "_dom_classes": [],
            "_model_name": "HBoxModel",
            "_view_module": "@jupyter-widgets/controls",
            "_model_module_version": "1.5.0",
            "_view_count": null,
            "_view_module_version": "1.5.0",
            "box_style": "",
            "layout": "IPY_MODEL_e9720ce05d0843b4bf9c7c4b1e9561fc",
            "_model_module": "@jupyter-widgets/controls",
            "children": [
              "IPY_MODEL_a690a36c81b242efb4fe8a563beb7218",
              "IPY_MODEL_311be2decf6e49af86fd0aeb21f4147a"
            ]
          }
        },
        "e9720ce05d0843b4bf9c7c4b1e9561fc": {
          "model_module": "@jupyter-widgets/base",
          "model_name": "LayoutModel",
          "model_module_version": "1.2.0",
          "state": {
            "_view_name": "LayoutView",
            "grid_template_rows": null,
            "right": null,
            "justify_content": null,
            "_view_module": "@jupyter-widgets/base",
            "overflow": null,
            "_model_module_version": "1.2.0",
            "_view_count": null,
            "flex_flow": null,
            "width": null,
            "min_width": null,
            "border": null,
            "align_items": null,
            "bottom": null,
            "_model_module": "@jupyter-widgets/base",
            "top": null,
            "grid_column": null,
            "overflow_y": null,
            "overflow_x": null,
            "grid_auto_flow": null,
            "grid_area": null,
            "grid_template_columns": null,
            "flex": null,
            "_model_name": "LayoutModel",
            "justify_items": null,
            "grid_row": null,
            "max_height": null,
            "align_content": null,
            "visibility": null,
            "align_self": null,
            "height": null,
            "min_height": null,
            "padding": null,
            "grid_auto_rows": null,
            "grid_gap": null,
            "max_width": null,
            "order": null,
            "_view_module_version": "1.2.0",
            "grid_template_areas": null,
            "object_position": null,
            "object_fit": null,
            "grid_auto_columns": null,
            "margin": null,
            "display": null,
            "left": null
          }
        },
        "a690a36c81b242efb4fe8a563beb7218": {
          "model_module": "@jupyter-widgets/controls",
          "model_name": "FloatProgressModel",
          "model_module_version": "1.5.0",
          "state": {
            "_view_name": "ProgressView",
            "style": "IPY_MODEL_22ae9809897043e2a58a3cb1cce2c06e",
            "_dom_classes": [],
            "description": "Downloading: 100%",
            "_model_name": "FloatProgressModel",
            "bar_style": "success",
            "max": 231508,
            "_view_module": "@jupyter-widgets/controls",
            "_model_module_version": "1.5.0",
            "value": 231508,
            "_view_count": null,
            "_view_module_version": "1.5.0",
            "orientation": "horizontal",
            "min": 0,
            "description_tooltip": null,
            "_model_module": "@jupyter-widgets/controls",
            "layout": "IPY_MODEL_bbea6641df0f40b2a3c800163e9333c3"
          }
        },
        "311be2decf6e49af86fd0aeb21f4147a": {
          "model_module": "@jupyter-widgets/controls",
          "model_name": "HTMLModel",
          "model_module_version": "1.5.0",
          "state": {
            "_view_name": "HTMLView",
            "style": "IPY_MODEL_27a4a0450bac4f688e14ce590a09346e",
            "_dom_classes": [],
            "description": "",
            "_model_name": "HTMLModel",
            "placeholder": "​",
            "_view_module": "@jupyter-widgets/controls",
            "_model_module_version": "1.5.0",
            "value": " 232k/232k [00:00&lt;00:00, 915kB/s]",
            "_view_count": null,
            "_view_module_version": "1.5.0",
            "description_tooltip": null,
            "_model_module": "@jupyter-widgets/controls",
            "layout": "IPY_MODEL_3224349678c541e2afd39825a8efd89c"
          }
        },
        "22ae9809897043e2a58a3cb1cce2c06e": {
          "model_module": "@jupyter-widgets/controls",
          "model_name": "ProgressStyleModel",
          "model_module_version": "1.5.0",
          "state": {
            "_view_name": "StyleView",
            "_model_name": "ProgressStyleModel",
            "description_width": "initial",
            "_view_module": "@jupyter-widgets/base",
            "_model_module_version": "1.5.0",
            "_view_count": null,
            "_view_module_version": "1.2.0",
            "bar_color": null,
            "_model_module": "@jupyter-widgets/controls"
          }
        },
        "bbea6641df0f40b2a3c800163e9333c3": {
          "model_module": "@jupyter-widgets/base",
          "model_name": "LayoutModel",
          "model_module_version": "1.2.0",
          "state": {
            "_view_name": "LayoutView",
            "grid_template_rows": null,
            "right": null,
            "justify_content": null,
            "_view_module": "@jupyter-widgets/base",
            "overflow": null,
            "_model_module_version": "1.2.0",
            "_view_count": null,
            "flex_flow": null,
            "width": null,
            "min_width": null,
            "border": null,
            "align_items": null,
            "bottom": null,
            "_model_module": "@jupyter-widgets/base",
            "top": null,
            "grid_column": null,
            "overflow_y": null,
            "overflow_x": null,
            "grid_auto_flow": null,
            "grid_area": null,
            "grid_template_columns": null,
            "flex": null,
            "_model_name": "LayoutModel",
            "justify_items": null,
            "grid_row": null,
            "max_height": null,
            "align_content": null,
            "visibility": null,
            "align_self": null,
            "height": null,
            "min_height": null,
            "padding": null,
            "grid_auto_rows": null,
            "grid_gap": null,
            "max_width": null,
            "order": null,
            "_view_module_version": "1.2.0",
            "grid_template_areas": null,
            "object_position": null,
            "object_fit": null,
            "grid_auto_columns": null,
            "margin": null,
            "display": null,
            "left": null
          }
        },
        "27a4a0450bac4f688e14ce590a09346e": {
          "model_module": "@jupyter-widgets/controls",
          "model_name": "DescriptionStyleModel",
          "model_module_version": "1.5.0",
          "state": {
            "_view_name": "StyleView",
            "_model_name": "DescriptionStyleModel",
            "description_width": "",
            "_view_module": "@jupyter-widgets/base",
            "_model_module_version": "1.5.0",
            "_view_count": null,
            "_view_module_version": "1.2.0",
            "_model_module": "@jupyter-widgets/controls"
          }
        },
        "3224349678c541e2afd39825a8efd89c": {
          "model_module": "@jupyter-widgets/base",
          "model_name": "LayoutModel",
          "model_module_version": "1.2.0",
          "state": {
            "_view_name": "LayoutView",
            "grid_template_rows": null,
            "right": null,
            "justify_content": null,
            "_view_module": "@jupyter-widgets/base",
            "overflow": null,
            "_model_module_version": "1.2.0",
            "_view_count": null,
            "flex_flow": null,
            "width": null,
            "min_width": null,
            "border": null,
            "align_items": null,
            "bottom": null,
            "_model_module": "@jupyter-widgets/base",
            "top": null,
            "grid_column": null,
            "overflow_y": null,
            "overflow_x": null,
            "grid_auto_flow": null,
            "grid_area": null,
            "grid_template_columns": null,
            "flex": null,
            "_model_name": "LayoutModel",
            "justify_items": null,
            "grid_row": null,
            "max_height": null,
            "align_content": null,
            "visibility": null,
            "align_self": null,
            "height": null,
            "min_height": null,
            "padding": null,
            "grid_auto_rows": null,
            "grid_gap": null,
            "max_width": null,
            "order": null,
            "_view_module_version": "1.2.0",
            "grid_template_areas": null,
            "object_position": null,
            "object_fit": null,
            "grid_auto_columns": null,
            "margin": null,
            "display": null,
            "left": null
          }
        },
        "43a52cdf89a14105bbad0924907aadeb": {
          "model_module": "@jupyter-widgets/controls",
          "model_name": "HBoxModel",
          "model_module_version": "1.5.0",
          "state": {
            "_view_name": "HBoxView",
            "_dom_classes": [],
            "_model_name": "HBoxModel",
            "_view_module": "@jupyter-widgets/controls",
            "_model_module_version": "1.5.0",
            "_view_count": null,
            "_view_module_version": "1.5.0",
            "box_style": "",
            "layout": "IPY_MODEL_aca216bf466f499dbf4296fa11702ee5",
            "_model_module": "@jupyter-widgets/controls",
            "children": [
              "IPY_MODEL_bd58187112584741b200a4b38f6e97e2",
              "IPY_MODEL_4fbf21904cd7495ba255ed1b67ef973a"
            ]
          }
        },
        "aca216bf466f499dbf4296fa11702ee5": {
          "model_module": "@jupyter-widgets/base",
          "model_name": "LayoutModel",
          "model_module_version": "1.2.0",
          "state": {
            "_view_name": "LayoutView",
            "grid_template_rows": null,
            "right": null,
            "justify_content": null,
            "_view_module": "@jupyter-widgets/base",
            "overflow": null,
            "_model_module_version": "1.2.0",
            "_view_count": null,
            "flex_flow": null,
            "width": null,
            "min_width": null,
            "border": null,
            "align_items": null,
            "bottom": null,
            "_model_module": "@jupyter-widgets/base",
            "top": null,
            "grid_column": null,
            "overflow_y": null,
            "overflow_x": null,
            "grid_auto_flow": null,
            "grid_area": null,
            "grid_template_columns": null,
            "flex": null,
            "_model_name": "LayoutModel",
            "justify_items": null,
            "grid_row": null,
            "max_height": null,
            "align_content": null,
            "visibility": null,
            "align_self": null,
            "height": null,
            "min_height": null,
            "padding": null,
            "grid_auto_rows": null,
            "grid_gap": null,
            "max_width": null,
            "order": null,
            "_view_module_version": "1.2.0",
            "grid_template_areas": null,
            "object_position": null,
            "object_fit": null,
            "grid_auto_columns": null,
            "margin": null,
            "display": null,
            "left": null
          }
        },
        "bd58187112584741b200a4b38f6e97e2": {
          "model_module": "@jupyter-widgets/controls",
          "model_name": "FloatProgressModel",
          "model_module_version": "1.5.0",
          "state": {
            "_view_name": "ProgressView",
            "style": "IPY_MODEL_33091cf4f5ef4714853451fa0bf806f0",
            "_dom_classes": [],
            "description": "Downloading: 100%",
            "_model_name": "FloatProgressModel",
            "bar_style": "success",
            "max": 433,
            "_view_module": "@jupyter-widgets/controls",
            "_model_module_version": "1.5.0",
            "value": 433,
            "_view_count": null,
            "_view_module_version": "1.5.0",
            "orientation": "horizontal",
            "min": 0,
            "description_tooltip": null,
            "_model_module": "@jupyter-widgets/controls",
            "layout": "IPY_MODEL_d2d481022b2345febda82bc4da7845c9"
          }
        },
        "4fbf21904cd7495ba255ed1b67ef973a": {
          "model_module": "@jupyter-widgets/controls",
          "model_name": "HTMLModel",
          "model_module_version": "1.5.0",
          "state": {
            "_view_name": "HTMLView",
            "style": "IPY_MODEL_10aa0ffa467043c58b4028d90837aeb3",
            "_dom_classes": [],
            "description": "",
            "_model_name": "HTMLModel",
            "placeholder": "​",
            "_view_module": "@jupyter-widgets/controls",
            "_model_module_version": "1.5.0",
            "value": " 433/433 [00:00&lt;00:00, 12.8kB/s]",
            "_view_count": null,
            "_view_module_version": "1.5.0",
            "description_tooltip": null,
            "_model_module": "@jupyter-widgets/controls",
            "layout": "IPY_MODEL_679cff2effca47cf944bb24c121795d4"
          }
        },
        "33091cf4f5ef4714853451fa0bf806f0": {
          "model_module": "@jupyter-widgets/controls",
          "model_name": "ProgressStyleModel",
          "model_module_version": "1.5.0",
          "state": {
            "_view_name": "StyleView",
            "_model_name": "ProgressStyleModel",
            "description_width": "initial",
            "_view_module": "@jupyter-widgets/base",
            "_model_module_version": "1.5.0",
            "_view_count": null,
            "_view_module_version": "1.2.0",
            "bar_color": null,
            "_model_module": "@jupyter-widgets/controls"
          }
        },
        "d2d481022b2345febda82bc4da7845c9": {
          "model_module": "@jupyter-widgets/base",
          "model_name": "LayoutModel",
          "model_module_version": "1.2.0",
          "state": {
            "_view_name": "LayoutView",
            "grid_template_rows": null,
            "right": null,
            "justify_content": null,
            "_view_module": "@jupyter-widgets/base",
            "overflow": null,
            "_model_module_version": "1.2.0",
            "_view_count": null,
            "flex_flow": null,
            "width": null,
            "min_width": null,
            "border": null,
            "align_items": null,
            "bottom": null,
            "_model_module": "@jupyter-widgets/base",
            "top": null,
            "grid_column": null,
            "overflow_y": null,
            "overflow_x": null,
            "grid_auto_flow": null,
            "grid_area": null,
            "grid_template_columns": null,
            "flex": null,
            "_model_name": "LayoutModel",
            "justify_items": null,
            "grid_row": null,
            "max_height": null,
            "align_content": null,
            "visibility": null,
            "align_self": null,
            "height": null,
            "min_height": null,
            "padding": null,
            "grid_auto_rows": null,
            "grid_gap": null,
            "max_width": null,
            "order": null,
            "_view_module_version": "1.2.0",
            "grid_template_areas": null,
            "object_position": null,
            "object_fit": null,
            "grid_auto_columns": null,
            "margin": null,
            "display": null,
            "left": null
          }
        },
        "10aa0ffa467043c58b4028d90837aeb3": {
          "model_module": "@jupyter-widgets/controls",
          "model_name": "DescriptionStyleModel",
          "model_module_version": "1.5.0",
          "state": {
            "_view_name": "StyleView",
            "_model_name": "DescriptionStyleModel",
            "description_width": "",
            "_view_module": "@jupyter-widgets/base",
            "_model_module_version": "1.5.0",
            "_view_count": null,
            "_view_module_version": "1.2.0",
            "_model_module": "@jupyter-widgets/controls"
          }
        },
        "679cff2effca47cf944bb24c121795d4": {
          "model_module": "@jupyter-widgets/base",
          "model_name": "LayoutModel",
          "model_module_version": "1.2.0",
          "state": {
            "_view_name": "LayoutView",
            "grid_template_rows": null,
            "right": null,
            "justify_content": null,
            "_view_module": "@jupyter-widgets/base",
            "overflow": null,
            "_model_module_version": "1.2.0",
            "_view_count": null,
            "flex_flow": null,
            "width": null,
            "min_width": null,
            "border": null,
            "align_items": null,
            "bottom": null,
            "_model_module": "@jupyter-widgets/base",
            "top": null,
            "grid_column": null,
            "overflow_y": null,
            "overflow_x": null,
            "grid_auto_flow": null,
            "grid_area": null,
            "grid_template_columns": null,
            "flex": null,
            "_model_name": "LayoutModel",
            "justify_items": null,
            "grid_row": null,
            "max_height": null,
            "align_content": null,
            "visibility": null,
            "align_self": null,
            "height": null,
            "min_height": null,
            "padding": null,
            "grid_auto_rows": null,
            "grid_gap": null,
            "max_width": null,
            "order": null,
            "_view_module_version": "1.2.0",
            "grid_template_areas": null,
            "object_position": null,
            "object_fit": null,
            "grid_auto_columns": null,
            "margin": null,
            "display": null,
            "left": null
          }
        },
        "a5ff8fbd1eb74cc39803decfa4bfe81d": {
          "model_module": "@jupyter-widgets/controls",
          "model_name": "HBoxModel",
          "model_module_version": "1.5.0",
          "state": {
            "_view_name": "HBoxView",
            "_dom_classes": [],
            "_model_name": "HBoxModel",
            "_view_module": "@jupyter-widgets/controls",
            "_model_module_version": "1.5.0",
            "_view_count": null,
            "_view_module_version": "1.5.0",
            "box_style": "",
            "layout": "IPY_MODEL_bab827bac8fd45f0b3f6a0d02c587d69",
            "_model_module": "@jupyter-widgets/controls",
            "children": [
              "IPY_MODEL_d84aa85b154a4b1883f8837d20f7fe31",
              "IPY_MODEL_48410bf18fb24461a2bc547198b8d5dd"
            ]
          }
        },
        "bab827bac8fd45f0b3f6a0d02c587d69": {
          "model_module": "@jupyter-widgets/base",
          "model_name": "LayoutModel",
          "model_module_version": "1.2.0",
          "state": {
            "_view_name": "LayoutView",
            "grid_template_rows": null,
            "right": null,
            "justify_content": null,
            "_view_module": "@jupyter-widgets/base",
            "overflow": null,
            "_model_module_version": "1.2.0",
            "_view_count": null,
            "flex_flow": null,
            "width": null,
            "min_width": null,
            "border": null,
            "align_items": null,
            "bottom": null,
            "_model_module": "@jupyter-widgets/base",
            "top": null,
            "grid_column": null,
            "overflow_y": null,
            "overflow_x": null,
            "grid_auto_flow": null,
            "grid_area": null,
            "grid_template_columns": null,
            "flex": null,
            "_model_name": "LayoutModel",
            "justify_items": null,
            "grid_row": null,
            "max_height": null,
            "align_content": null,
            "visibility": null,
            "align_self": null,
            "height": null,
            "min_height": null,
            "padding": null,
            "grid_auto_rows": null,
            "grid_gap": null,
            "max_width": null,
            "order": null,
            "_view_module_version": "1.2.0",
            "grid_template_areas": null,
            "object_position": null,
            "object_fit": null,
            "grid_auto_columns": null,
            "margin": null,
            "display": null,
            "left": null
          }
        },
        "d84aa85b154a4b1883f8837d20f7fe31": {
          "model_module": "@jupyter-widgets/controls",
          "model_name": "FloatProgressModel",
          "model_module_version": "1.5.0",
          "state": {
            "_view_name": "ProgressView",
            "style": "IPY_MODEL_7b1e21453db947f89b24a7d106364afa",
            "_dom_classes": [],
            "description": "Downloading: 100%",
            "_model_name": "FloatProgressModel",
            "bar_style": "success",
            "max": 440473133,
            "_view_module": "@jupyter-widgets/controls",
            "_model_module_version": "1.5.0",
            "value": 440473133,
            "_view_count": null,
            "_view_module_version": "1.5.0",
            "orientation": "horizontal",
            "min": 0,
            "description_tooltip": null,
            "_model_module": "@jupyter-widgets/controls",
            "layout": "IPY_MODEL_39d9dacb02f544d6818873a252a559a7"
          }
        },
        "48410bf18fb24461a2bc547198b8d5dd": {
          "model_module": "@jupyter-widgets/controls",
          "model_name": "HTMLModel",
          "model_module_version": "1.5.0",
          "state": {
            "_view_name": "HTMLView",
            "style": "IPY_MODEL_6954266c4d414084bf93f1a34857f0e2",
            "_dom_classes": [],
            "description": "",
            "_model_name": "HTMLModel",
            "placeholder": "​",
            "_view_module": "@jupyter-widgets/controls",
            "_model_module_version": "1.5.0",
            "value": " 440M/440M [00:08&lt;00:00, 51.3MB/s]",
            "_view_count": null,
            "_view_module_version": "1.5.0",
            "description_tooltip": null,
            "_model_module": "@jupyter-widgets/controls",
            "layout": "IPY_MODEL_1eb34652bb7546ff94588fff50cb281b"
          }
        },
        "7b1e21453db947f89b24a7d106364afa": {
          "model_module": "@jupyter-widgets/controls",
          "model_name": "ProgressStyleModel",
          "model_module_version": "1.5.0",
          "state": {
            "_view_name": "StyleView",
            "_model_name": "ProgressStyleModel",
            "description_width": "initial",
            "_view_module": "@jupyter-widgets/base",
            "_model_module_version": "1.5.0",
            "_view_count": null,
            "_view_module_version": "1.2.0",
            "bar_color": null,
            "_model_module": "@jupyter-widgets/controls"
          }
        },
        "39d9dacb02f544d6818873a252a559a7": {
          "model_module": "@jupyter-widgets/base",
          "model_name": "LayoutModel",
          "model_module_version": "1.2.0",
          "state": {
            "_view_name": "LayoutView",
            "grid_template_rows": null,
            "right": null,
            "justify_content": null,
            "_view_module": "@jupyter-widgets/base",
            "overflow": null,
            "_model_module_version": "1.2.0",
            "_view_count": null,
            "flex_flow": null,
            "width": null,
            "min_width": null,
            "border": null,
            "align_items": null,
            "bottom": null,
            "_model_module": "@jupyter-widgets/base",
            "top": null,
            "grid_column": null,
            "overflow_y": null,
            "overflow_x": null,
            "grid_auto_flow": null,
            "grid_area": null,
            "grid_template_columns": null,
            "flex": null,
            "_model_name": "LayoutModel",
            "justify_items": null,
            "grid_row": null,
            "max_height": null,
            "align_content": null,
            "visibility": null,
            "align_self": null,
            "height": null,
            "min_height": null,
            "padding": null,
            "grid_auto_rows": null,
            "grid_gap": null,
            "max_width": null,
            "order": null,
            "_view_module_version": "1.2.0",
            "grid_template_areas": null,
            "object_position": null,
            "object_fit": null,
            "grid_auto_columns": null,
            "margin": null,
            "display": null,
            "left": null
          }
        },
        "6954266c4d414084bf93f1a34857f0e2": {
          "model_module": "@jupyter-widgets/controls",
          "model_name": "DescriptionStyleModel",
          "model_module_version": "1.5.0",
          "state": {
            "_view_name": "StyleView",
            "_model_name": "DescriptionStyleModel",
            "description_width": "",
            "_view_module": "@jupyter-widgets/base",
            "_model_module_version": "1.5.0",
            "_view_count": null,
            "_view_module_version": "1.2.0",
            "_model_module": "@jupyter-widgets/controls"
          }
        },
        "1eb34652bb7546ff94588fff50cb281b": {
          "model_module": "@jupyter-widgets/base",
          "model_name": "LayoutModel",
          "model_module_version": "1.2.0",
          "state": {
            "_view_name": "LayoutView",
            "grid_template_rows": null,
            "right": null,
            "justify_content": null,
            "_view_module": "@jupyter-widgets/base",
            "overflow": null,
            "_model_module_version": "1.2.0",
            "_view_count": null,
            "flex_flow": null,
            "width": null,
            "min_width": null,
            "border": null,
            "align_items": null,
            "bottom": null,
            "_model_module": "@jupyter-widgets/base",
            "top": null,
            "grid_column": null,
            "overflow_y": null,
            "overflow_x": null,
            "grid_auto_flow": null,
            "grid_area": null,
            "grid_template_columns": null,
            "flex": null,
            "_model_name": "LayoutModel",
            "justify_items": null,
            "grid_row": null,
            "max_height": null,
            "align_content": null,
            "visibility": null,
            "align_self": null,
            "height": null,
            "min_height": null,
            "padding": null,
            "grid_auto_rows": null,
            "grid_gap": null,
            "max_width": null,
            "order": null,
            "_view_module_version": "1.2.0",
            "grid_template_areas": null,
            "object_position": null,
            "object_fit": null,
            "grid_auto_columns": null,
            "margin": null,
            "display": null,
            "left": null
          }
        }
      }
    }
  },
  "cells": [
    {
      "cell_type": "markdown",
      "metadata": {
        "id": "EKOTlwcmxmej"
      },
      "source": [
        "# Classifying Wikipedia Comments with BERT\n",
        "\n",
        "By Chris McCormick & Nick Ryan\n",
        "\n"
      ]
    },
    {
      "cell_type": "markdown",
      "metadata": {
        "id": "_8uEW4O7f8XS"
      },
      "source": [
        "This Notebook will show you how to fine-tune BERT for **multi-label text classification** tasks, meaning that each sample in the dataset can belong to more than one category (or no category!).\n",
        "\n",
        "We'll be using the *Wikipedia Toxic Comments Challenge* dataset, which contains a large number of user-written comments, and where each comment can be tagged with multiple labels.\n",
        "\n",
        "The dataset has **6** different labels corresponding to different types of awfulness (\"toxic\", \"obscene\", \"insult\", ...), and each comment can be tagged with one or more labels, or no labels at all.\n",
        "\n",
        "This is a slightly different task than \"multiclass\" classification, where there are multiple categories, but each sample only belongs to one category.\n",
        "\n",
        "> *Side Note: Going off of the Wikipedia article titles, the correct spelling for these two terms are \"[Multiclass](https://en.wikipedia.org/wiki/Multiclass_classification)\" and \"[Multi-label](https://en.wikipedia.org/wiki/Multi-label_classification)\", so I'll do my best to stick to those spellings :)*\n",
        "\n",
        "The huggingface `transformers` library has built-in support for multiclass, but not multi-label, so we'll be defining a custom class here to do it! (Note that we'll still be relying heavily on the `transformers` library).\n",
        "\n",
        "> Note that Kaushal Trivedi has previously created and shared this same example [here](https://medium.com/huggingface/multi-label-text-classification-using-bert-the-mighty-transformer-69714fa3fb3d) back in 2019--modifying PyTorch transformers to apply it to the toxic comments challenge. His example code isn’t well documented, though, so we didn’t use it as the basis for our example here, other than to help confirm the small changes we needed to make to the model. That said, his code may be a source of additional insight if you are interested. For instance, he appears to use a more complex learning rate scheduler than the linear one that we have been using in our examples.\n",
        "\n"
      ]
    },
    {
      "cell_type": "markdown",
      "metadata": {
        "id": "uVa5S9z0OIjf"
      },
      "source": [
        "## Notebook Access"
      ]
    },
    {
      "cell_type": "markdown",
      "metadata": {
        "id": "SCFXYdbIXguc"
      },
      "source": [
        "\n",
        "-------------------------------------\n",
        "\n",
        "[![Notebook Access](https://drive.google.com/uc?export=view&id=1yPJapK5X9kXLDhtuDJm3Hw4-ZlxMwcsa)](https://www.chrismccormick.ai/membership)\n",
        "\n",
        "<sup>\\*</sup>Notify me [here](team@chrismccormick.ai)\n",
        "\n",
        "<sup>\\*\\*</sup>Join my site [here](https://www.chrismccormick.ai/membership)\n",
        "\n",
        "---------------------------------------\n",
        "\n"
      ]
    },
    {
      "cell_type": "markdown",
      "metadata": {
        "id": "NQgKKHtnPCkD"
      },
      "source": [
        "## Overview\n"
      ]
    },
    {
      "cell_type": "markdown",
      "metadata": {
        "id": "bxtkgZR3P1R8"
      },
      "source": [
        "\n",
        "This Notebook is divided into six sections.\n",
        "\n",
        "* Section 1 - We'll look at the differences in a multi-label vs. multi-class architecture, and we'll define our custom multi-label model, using `transformers` and PyTorch.\n",
        "* Section 2 - We'll retrieve the toxic comments dataset and explore it a bit.\n",
        "* Section 3 - We'll tokenize the dataset so that it's ready to be fed into BERT.\n",
        "* Section 4 - We'll implement and run our training loop to fine-tune BERT on this dataset.\n",
        "* Section 5 - We'll apply our fine-tuned model to the test set of the toxic comments challenge and see how well we score!\n",
        "\n"
      ]
    },
    {
      "cell_type": "markdown",
      "metadata": {
        "id": "XlANiaJ4zZdx"
      },
      "source": [
        "## S1. Defining our Multi-Label Model"
      ]
    },
    {
      "cell_type": "markdown",
      "metadata": {
        "id": "O88xsdq90Fmf"
      },
      "source": [
        "In all of our examples, we have been using the `transformers` library by Huggingface, because it defines models for us for several different NLP tasks. Here are the most significant ones:\n",
        "\n",
        "* `BertForSequenceClassification` - Binary and Multiclass Text Classification.\n",
        "* `BertForTokenClassification` - Token-level classification, such as for Named Entity Recognition (NER)\n",
        "* `BertForQuestionAnswering` - Identify a span of text within a passage which answers the posed question.\n",
        "\n",
        "Each of these classes places a different final layer on top of the BERT model depending on the task.\n",
        "\n",
        "The `BertForSequenceClassification` class is the closest to what we are looking for; for some reason, though, it does not support multi-label classification, and so we'll need to define our own model: **BertForMultiLabelSequenceClassification**.\n",
        "\n",
        "Fortunately, we'll see that it's a pretty small change from the existing `BertForSequenceClassification`. To understand the change, let's look at the difference in architectures.\n",
        "\n"
      ]
    },
    {
      "cell_type": "markdown",
      "metadata": {
        "id": "jInRJRYIpntp"
      },
      "source": [
        "### 1.1. Multiclass vs. Multi-Label Architectures\n"
      ]
    },
    {
      "cell_type": "markdown",
      "metadata": {
        "id": "W2EViVcQ6pnX"
      },
      "source": [
        "At the most basic level, in *multiclass* our target is a one-hot vector that must have one and only one positive class. For multi-label our target is a one-hot vector that can have a) no positive classes, b) one positive class, or c) multiple positive classes.\n"
      ]
    },
    {
      "cell_type": "markdown",
      "metadata": {
        "id": "MoKs4cFprOPY"
      },
      "source": [
        "\n",
        "![One Hot Vectors](https://drive.google.com/uc?id=1cPFTlbBVT9I2wx06M1MkuAToXfpXruuS)\n"
      ]
    },
    {
      "cell_type": "markdown",
      "metadata": {
        "id": "B14QKhW7rQRf"
      },
      "source": [
        "\n",
        "In both cases, the embedding for the `[CLS]` token, after being \"enhanced\" by all 12 of BERT's encoder layers, is fed into a classifier which makes our predictions.\n"
      ]
    },
    {
      "cell_type": "markdown",
      "metadata": {
        "id": "DxrxIc5NrRv-"
      },
      "source": [
        "\n",
        "![Illustration of CLS token purpose](https://drive.google.com/uc?export=view&id=1ck4mvGkznVJfW3hv6GUqcdGepVTOx7HE)\n",
        "\n"
      ]
    },
    {
      "cell_type": "markdown",
      "metadata": {
        "id": "cjp4AmVzrToN"
      },
      "source": [
        "\n",
        "The difference between how we handle multilabel vs multiclass tasks is just in the classifier at the very end!\n",
        "\n",
        "In both cases, we use a simple linear classifier, which has a `[768 x 6]` weight matrix. We multiply the `[CLS]` embedding (length 768) against this matrix to produce 6 logit values (one for each class).\n",
        "\n",
        "The difference between multiclass and multi-label is what we do with those 6 logits--we use a different *activation function* and *loss function*.\n"
      ]
    },
    {
      "cell_type": "markdown",
      "metadata": {
        "id": "5RLjj_2r63fD"
      },
      "source": [
        "\n",
        "#### Multiclass\n"
      ]
    },
    {
      "cell_type": "markdown",
      "metadata": {
        "id": "iJFjYBEu64ua"
      },
      "source": [
        "For multiclass, we use the **SoftMax activation** function with **Cross-Entropy Loss**. You'll sometimes see this classifier referred to as a \"SoftMax Regression\" classifier (the use of the term 'regression' to name a classifier is confusing, I know!).\n",
        "\n",
        "The below illustration shows how the final `[CLS]` token embedding is multiplied by the classifier weights to produce the logits, then sent through the SoftMax activation function."
      ]
    },
    {
      "cell_type": "markdown",
      "metadata": {
        "id": "IJvjz0WRCmRY"
      },
      "source": [
        "\n",
        "![Multiclass Classifier with SoftMax](https://drive.google.com/uc?id=1X4hGAlKoTkoQlbLx3w2Iye3QaOIOuecQ)\n"
      ]
    },
    {
      "cell_type": "markdown",
      "metadata": {
        "id": "vY1eahVGCyeh"
      },
      "source": [
        "The result is a distribution of scores across the classes that will always add up to 1.0.\n",
        "\n",
        "Using softmax, the probability of one class affects the probability of the other classes in a big way. This works out well because there is only one correct answer, so if one score is very likely we want to make the other scores very unlikely.\n",
        "\n",
        "When we want to predict the label for a new piece of input text, we simply assign it the highest scoring class.\n"
      ]
    },
    {
      "cell_type": "markdown",
      "metadata": {
        "id": "wToJFJcp6tzU"
      },
      "source": [
        "\n",
        "#### Multi-Label\n"
      ]
    },
    {
      "cell_type": "markdown",
      "metadata": {
        "id": "GZ3Lvojz6vJG"
      },
      "source": [
        "For multi-label, this presents a problem. Since an example can belong to multiple classes, we don't want the high probability that our example is one class to negatively affect the probability that it could be in the other classes.\n",
        "\n",
        "For multilabel, we will use the **sigmoid activation** function with **Binary Cross-Entropy Loss**.\n",
        "\n",
        "Here is the same illustration, this time with sigmoid activation.\n"
      ]
    },
    {
      "cell_type": "markdown",
      "metadata": {
        "id": "vKvRr4SIHN2k"
      },
      "source": [
        "\n",
        "![Multilabel Classifier with sigmoid](https://drive.google.com/uc?id=1XAJfd9pVAIqIX43Ih13X4d4DjWEe7tys)\n",
        "\n"
      ]
    },
    {
      "cell_type": "markdown",
      "metadata": {
        "id": "Z2xqcDhEHPxz"
      },
      "source": [
        "When we want to predict the labels for a new piece of input text, we just assign all labels whose scores are greater than some threshold. The sigmoid function always outputs values in the range 0 - 1.0, so 0.5 is a reasonable choice for our threshold.\n",
        "\n",
        "\n"
      ]
    },
    {
      "cell_type": "markdown",
      "metadata": {
        "id": "aRLVzVuH6xn8"
      },
      "source": [
        "\n",
        "#### Summing Up\n"
      ]
    },
    {
      "cell_type": "markdown",
      "metadata": {
        "id": "K3CxbdFI6yeR"
      },
      "source": [
        "**Multiclass = SoftMax + Cross-Entropy**\n",
        "\n",
        "**Multi-Label = Sigmoid + Binary Cross-Entropy**\n",
        "\n",
        "**SoftMax** = Squish the outputs into a probability distribution of scores that add up to 1.\n",
        "\n",
        "**Sigmoid** = Squish each output into a score between 0 and 1.\n",
        "\n",
        "**Cross-Entropy Loss** = Punishes bad predictions at log scale.\n",
        "\n"
      ]
    },
    {
      "cell_type": "markdown",
      "metadata": {
        "id": "2ElsnSNUridI"
      },
      "source": [
        "### 1.2. Install the Hugging Face Library\n"
      ]
    },
    {
      "cell_type": "markdown",
      "metadata": {
        "id": "G_N2UDLevYWn"
      },
      "source": [
        "With the theory out of the way, now we can define our new architecture in code.\n",
        "\n",
        "We will still be relying heavily on the `transformers` library, so we'll need to install it before we can define our model."
      ]
    },
    {
      "cell_type": "code",
      "metadata": {
        "id": "0NmMdkZO8R6q",
        "colab": {
          "base_uri": "https://localhost:8080/",
          "height": 595
        },
        "outputId": "74a9cfa6-6c7c-4d80-9a44-bba4249ce408"
      },
      "source": [
        "!pip install transformers"
      ],
      "execution_count": null,
      "outputs": [
        {
          "output_type": "stream",
          "text": [
            "Collecting transformers\n",
            "\u001b[?25l  Downloading https://files.pythonhosted.org/packages/27/3c/91ed8f5c4e7ef3227b4119200fc0ed4b4fd965b1f0172021c25701087825/transformers-3.0.2-py3-none-any.whl (769kB)\n",
            "\u001b[K     |████████████████████████████████| 778kB 4.9MB/s \n",
            "\u001b[?25hRequirement already satisfied: tqdm>=4.27 in /usr/local/lib/python3.6/dist-packages (from transformers) (4.41.1)\n",
            "Collecting sentencepiece!=0.1.92\n",
            "\u001b[?25l  Downloading https://files.pythonhosted.org/packages/d4/a4/d0a884c4300004a78cca907a6ff9a5e9fe4f090f5d95ab341c53d28cbc58/sentencepiece-0.1.91-cp36-cp36m-manylinux1_x86_64.whl (1.1MB)\n",
            "\u001b[K     |████████████████████████████████| 1.1MB 25.9MB/s \n",
            "\u001b[?25hRequirement already satisfied: regex!=2019.12.17 in /usr/local/lib/python3.6/dist-packages (from transformers) (2019.12.20)\n",
            "Requirement already satisfied: filelock in /usr/local/lib/python3.6/dist-packages (from transformers) (3.0.12)\n",
            "Requirement already satisfied: numpy in /usr/local/lib/python3.6/dist-packages (from transformers) (1.18.5)\n",
            "Collecting tokenizers==0.8.1.rc1\n",
            "\u001b[?25l  Downloading https://files.pythonhosted.org/packages/40/d0/30d5f8d221a0ed981a186c8eb986ce1c94e3a6e87f994eae9f4aa5250217/tokenizers-0.8.1rc1-cp36-cp36m-manylinux1_x86_64.whl (3.0MB)\n",
            "\u001b[K     |████████████████████████████████| 3.0MB 32.5MB/s \n",
            "\u001b[?25hCollecting sacremoses\n",
            "\u001b[?25l  Downloading https://files.pythonhosted.org/packages/7d/34/09d19aff26edcc8eb2a01bed8e98f13a1537005d31e95233fd48216eed10/sacremoses-0.0.43.tar.gz (883kB)\n",
            "\u001b[K     |████████████████████████████████| 890kB 43.5MB/s \n",
            "\u001b[?25hRequirement already satisfied: requests in /usr/local/lib/python3.6/dist-packages (from transformers) (2.23.0)\n",
            "Requirement already satisfied: dataclasses; python_version < \"3.7\" in /usr/local/lib/python3.6/dist-packages (from transformers) (0.7)\n",
            "Requirement already satisfied: packaging in /usr/local/lib/python3.6/dist-packages (from transformers) (20.4)\n",
            "Requirement already satisfied: six in /usr/local/lib/python3.6/dist-packages (from sacremoses->transformers) (1.15.0)\n",
            "Requirement already satisfied: click in /usr/local/lib/python3.6/dist-packages (from sacremoses->transformers) (7.1.2)\n",
            "Requirement already satisfied: joblib in /usr/local/lib/python3.6/dist-packages (from sacremoses->transformers) (0.16.0)\n",
            "Requirement already satisfied: idna<3,>=2.5 in /usr/local/lib/python3.6/dist-packages (from requests->transformers) (2.10)\n",
            "Requirement already satisfied: chardet<4,>=3.0.2 in /usr/local/lib/python3.6/dist-packages (from requests->transformers) (3.0.4)\n",
            "Requirement already satisfied: certifi>=2017.4.17 in /usr/local/lib/python3.6/dist-packages (from requests->transformers) (2020.6.20)\n",
            "Requirement already satisfied: urllib3!=1.25.0,!=1.25.1,<1.26,>=1.21.1 in /usr/local/lib/python3.6/dist-packages (from requests->transformers) (1.24.3)\n",
            "Requirement already satisfied: pyparsing>=2.0.2 in /usr/local/lib/python3.6/dist-packages (from packaging->transformers) (2.4.7)\n",
            "Building wheels for collected packages: sacremoses\n",
            "  Building wheel for sacremoses (setup.py) ... \u001b[?25l\u001b[?25hdone\n",
            "  Created wheel for sacremoses: filename=sacremoses-0.0.43-cp36-none-any.whl size=893260 sha256=6157a056fa22133686957db951386dc9ca21abd1b203f7eac0ecdbd228cedee2\n",
            "  Stored in directory: /root/.cache/pip/wheels/29/3c/fd/7ce5c3f0666dab31a50123635e6fb5e19ceb42ce38d4e58f45\n",
            "Successfully built sacremoses\n",
            "Installing collected packages: sentencepiece, tokenizers, sacremoses, transformers\n",
            "Successfully installed sacremoses-0.0.43 sentencepiece-0.1.91 tokenizers-0.8.1rc1 transformers-3.0.2\n"
          ],
          "name": "stdout"
        }
      ]
    },
    {
      "cell_type": "markdown",
      "metadata": {
        "id": "D6TKgyUzPIQc"
      },
      "source": [
        "### 1.3. BertForMultiLabelSequenceClassification"
      ]
    },
    {
      "cell_type": "markdown",
      "metadata": {
        "id": "BXYitPoE-cjH"
      },
      "source": [
        "Now it's time to implement our custom model!\n",
        "\n",
        "> *If you're not interested in the details of implementing models in PyTorch, feel free to skip this section--you can always return to it later.*\n",
        "\n",
        "We can get most of what we need for our model definition by simplying copying the source code for `BertForSequenceClassification` from `modeling_bert.py` [here](https://github.com/huggingface/transformers/blob/0735def8e1200ed45a2c33a075bc1595b12ef56a/src/transformers/modeling_bert.py#L1267).\n",
        "\n",
        "`BertForSequenceClassification` calls down to an instance of `BertModel`, which implements all of BERT's non-task-specific architecture. We just need to define a `forward` function which calls down to `BertModel`, and then adds on our final multi-label classification step.\n",
        "\n",
        "I've commented our \"BertFor**MultiLabel**SequenceClassification\" class in detail below, but here is the outline of what happens in the call to `forward`:\n",
        "\n",
        "1. The inputs are passed through an instance of `BertModel`, which returns the final `[CLS]` token embedding that we need for classificaiton.\n",
        "2. The `[CLS]` embedding is multiplied by a `[768 x 6]` weight matrix (our classifier weights), which produces our 6 output \"logits\".\n",
        "3. During **evaluation**, that's it! We return the logits as our predictions.\n",
        "4. During **training**, we feed the logits through an instance of `BCEWithLogitsLoss` from PyTorch, which:\n",
        "    1. Applies the sigmoid activation function to each of the 6 logit values.\n",
        "    2. Sends these final activations, along with the correct labels, through the Binary Cross-Entropy Loss function to calculate the \"loss\" (how well / poorly the model is predicting the correct labels).\n",
        "\n",
        "And that's it!\n",
        "\n",
        "Finally, note that we'll be using a batch size of 16 in this Notebook, so I use that as an example value in some of the comments below.\n"
      ]
    },
    {
      "cell_type": "markdown",
      "metadata": {
        "id": "lBdW3DKgIalH"
      },
      "source": [
        "***Aside: What about implementing backprop?***\n",
        "\n",
        "PyTorch handles gradient calculation for us--it constructs a \"compute graph\" as we execute the forward pass, attaching the graph to the tensors we use, and is able to automatically calculate our gradients from that graph when we call `loss.backward()` in our training loop.\n",
        "\n",
        "The actual weight updates are performed in the training loop later in the Notebook when we call `optimizer.step()`.\n"
      ]
    },
    {
      "cell_type": "markdown",
      "metadata": {
        "id": "o9kg0ojhpaDv"
      },
      "source": [
        "BertFor**MultiLabel**SequenceClassification"
      ]
    },
    {
      "cell_type": "code",
      "metadata": {
        "id": "SomcsvX5bi1U"
      },
      "source": [
        "from torch import nn\n",
        "from torch.nn import BCEWithLogitsLoss\n",
        "from transformers import BertPreTrainedModel, BertModel\n",
        "\n",
        "class BertForMultiLabelSequenceClassification(BertPreTrainedModel):\n",
        "    '''\n",
        "    This custom class closely resembles BertForSequenceClassification, which\n",
        "    supports multiclass classification, but not multi-label.\n",
        "    This modified version supports data points with multiple labels.\n",
        "    '''\n",
        "\n",
        "    def __init__(self, config):\n",
        "        '''\n",
        "        Class initializer, called when we create a new instance of this class.\n",
        "        '''\n",
        "\n",
        "        # Call the init function of the parent class (BertPreTrainedModel)\n",
        "        super().__init__(config)\n",
        "\n",
        "        # Store the number of labels.\n",
        "        self.num_labels = config.num_labels\n",
        "\n",
        "        # Create a `BertModel`--this implements all of BERT except for the final\n",
        "        # task-specific output layer (which is what we'll do here in `forward`).\n",
        "        self.bert = BertModel(config)\n",
        "\n",
        "        # Setup dropout object (note: I'm not familiar enough to speak to this).\n",
        "        self.dropout = nn.Dropout(config.hidden_dropout_prob)\n",
        "\n",
        "        # Create a [768 x 6] weight matrix to use as our classifier.\n",
        "        self.classifier = nn.Linear(config.hidden_size, config.num_labels)\n",
        "\n",
        "        # Initialize model weights (inherited function).\n",
        "        self.init_weights()\n",
        "\n",
        "    def forward(\n",
        "        self,\n",
        "        input_ids=None,\n",
        "        attention_mask=None,\n",
        "        token_type_ids=None,\n",
        "        position_ids=None,\n",
        "        head_mask=None,\n",
        "        inputs_embeds=None,\n",
        "        labels=None,\n",
        "        output_attentions=None,\n",
        "        output_hidden_states=None,\n",
        "    ):\n",
        "        '''\n",
        "        This function defines what happens on a forward pass of our model, both\n",
        "        for training and evaluation. For example, when we call\n",
        "            `model(b_input_ids, ...)`\n",
        "        during our training loop, it results in a call to this `forward`\n",
        "        function.\n",
        "        '''\n",
        "\n",
        "        # ====================\n",
        "        #   Run Through BERT\n",
        "        # ====================\n",
        "\n",
        "        # All of BERT's (non-task-specific) architecture is implemented by the\n",
        "        # BertModel class. Here we pass all of the inputs through our BertModel\n",
        "        # instance.\n",
        "        outputs = self.bert(\n",
        "            input_ids,                      # The input sequence\n",
        "            attention_mask=attention_mask,  # Mask out any [PAD] tokens.\n",
        "            token_type_ids=token_type_ids,  # Identify segment A vs. B\n",
        "            position_ids=position_ids,      # TODO...\n",
        "            head_mask=head_mask,            # TODO...\n",
        "            inputs_embeds=inputs_embeds,    # Presumably the initial embeddings\n",
        "                                            # for the tokens in our sequence.\n",
        "            output_attentions=output_attentions, # Boolean, whether to return\n",
        "                                                 # all of the attention scores.\n",
        "            output_hidden_states=output_hidden_states, # Whether to return\n",
        "                                                       # embeddings from all 12\n",
        "                                                       # layers.\n",
        "        )\n",
        "\n",
        "        # Side note: It confused me to see us *invoking* an instance of a class\n",
        "        # (calling self.bert(...)) as if it were a function! I learned that in\n",
        "        # Python, an instance of a class can be callable if the class defines a\n",
        "        # `__call__` method!\n",
        "        # BertModel ultimately inherits from torch.nn.Module, which I imagine\n",
        "        # implements a `__call__` method that allows PyTorch to work its magic.\n",
        "\n",
        "        # The forward pass of 'BertModel' (the call to `self.bert`) returns two\n",
        "        # items.\n",
        "\n",
        "        # The first output is the final embeddings taken from the output of\n",
        "        # the final BERT encoder layer.\n",
        "        #\n",
        "        # `final_embeddings` has dimensions:\n",
        "        #    [ batch size  x  sequence length  x  768]\n",
        "        #      (768 is the length of the embeddings in BERT-base)\n",
        "        #\n",
        "        # I've included this here for informational purposes, but we won't\n",
        "        # actually use the `final_embeddings` anywhere here!\n",
        "        final_embeddings = outputs[0]\n",
        "\n",
        "        # ===========================\n",
        "        #   Apply Output Classifier\n",
        "        # ===========================\n",
        "\n",
        "        # The second output is the activated form of the final [CLS] embedding.\n",
        "        # This comes from the so-called \"pooling layer\" that BERT has on its\n",
        "        # output which is only applied to the [CLS] token and none of the\n",
        "        # others.\n",
        "        #\n",
        "        # You can see the definition of BertPooler.forward here:\n",
        "        # https://github.com/huggingface/transformers/blob/0735def8e1200ed45a2c33a075bc1595b12ef56a/src/transformers/modeling_bert.py#L506\n",
        "        #\n",
        "        # It takes the final embedding for the [CLS] token (and *only* that\n",
        "        # token), multiplies it with a [768 x 768] weight matrix, and then\n",
        "        # applies tanh activation to each of the 768 features in the embedding.\n",
        "        activated_cls = outputs[1]\n",
        "\n",
        "        # Apply dropout (note: I'm not familiar enough with dropout to speak to\n",
        "        # it, but I believe it is applied during training only, and is turned\n",
        "        # off during evaluation mode when we call `model.eval()`).\n",
        "        activated_cls = self.dropout(activated_cls)\n",
        "\n",
        "        # Send it through our linear \"classifier\". The \"classifier\" is actually\n",
        "        # just a [768 x 6] weight matrix, with *no activation function*.\n",
        "        # Multiplying the activated CLS embedding with this matrix results in\n",
        "        # a vector with 6 values, which are the scores for each of our classes.\n",
        "        # Because we have not applied the activation function, these output\n",
        "        # values are referred to as \"logits\".\n",
        "        # When performing evaluation (not training), the logits are adequate for\n",
        "        # making a classification, since the activation function does not change\n",
        "        # the ranking of the results.\n",
        "        # So, in evaluation mode, we are done here!\n",
        "        logits = self.classifier(activated_cls)\n",
        "\n",
        "        # ===================\n",
        "        #   Training Mode\n",
        "        # ===================\n",
        "\n",
        "        # If labels for the inputs have been provided, we take that to mean that\n",
        "        # we are in training mode, and we need to calculate the loss function.\n",
        "        if labels is not None:\n",
        "\n",
        "            # The Binary Cross-Entropy Loss function is defined for us in\n",
        "            # PyTorch by the `BCEWithLogitsLoss` class.\n",
        "            #\n",
        "            # This loss function will:\n",
        "            #   1. Apply the sigmoid activation to each of our 6 logit values.\n",
        "            #   2. Feed those outputs, along with the correct labels, through\n",
        "            #      the binary cross entropy loss function to calculate a\n",
        "            #      (single?) loss value for the sample.\n",
        "            loss_fct = BCEWithLogitsLoss()\n",
        "\n",
        "            # Call the loss function, giving it the `logits` and the correct\n",
        "            # `labels`.\n",
        "            loss = loss_fct(logits.view(-1, self.num_labels), # The logits\n",
        "                            labels.view(-1, self.num_labels)) # The labels\n",
        "\n",
        "            # What's view(-1, ...)?\n",
        "            # The `view` function is used to reshape tensors. `-1` tells PyTorch\n",
        "            # to infer that dimension by dividing the total number of elements\n",
        "            # by the other dimensions.\n",
        "            # For batched input, this call to view is not necessary. Both\n",
        "            # `logits` and `labels` are already [16 x 6] here.\n",
        "            # Perhaps it's there to re-shape the tensors if you're only\n",
        "            # evaluating on a single input instead of a batch?\n",
        "\n",
        "            # Output is (loss, logits, <bonus returns>)\n",
        "            # The 'bonus return' values are the attentions and the hidden states\n",
        "            # from all 12 layers, but these are only returned by `BertModel` if\n",
        "            # the appropriate flags are set.\n",
        "            return ((loss, logits) + outputs[2:])\n",
        "\n",
        "        # ===================\n",
        "        #   Evaluation Mode\n",
        "        # ===================\n",
        "\n",
        "        # Otherwise, in evaluation mode...\n",
        "        else:\n",
        "\n",
        "            # Output is (logits, <bonus returns>)\n",
        "            # Again, the logits are adequate for classification, so we don't\n",
        "            # bother applying the (sigmoid) activation function here.\n",
        "            return ((logits,) + outputs[2:])"
      ],
      "execution_count": null,
      "outputs": []
    },
    {
      "cell_type": "markdown",
      "metadata": {
        "id": "Bt3HTo7LLMtj"
      },
      "source": [
        "## S2. Retrieve & Inspect Dataset\n",
        "\n"
      ]
    },
    {
      "cell_type": "markdown",
      "metadata": {
        "id": "JMx3Wd3K3B2q"
      },
      "source": [
        "The Toxic Comments Challenge on Kaggle (TODO) tasks competitors with classifying user-written comments (from Wikipedia edit pages) as containing depending on whether they\n",
        "toxic             15294\n",
        "severe_toxic       1595\n",
        "obscene            8449\n",
        "threat              478\n",
        "insult             7877\n",
        "identity_hate      1405"
      ]
    },
    {
      "cell_type": "markdown",
      "metadata": {
        "id": "HAjyraFG4Abp"
      },
      "source": [
        "### 2.1. Download\n",
        "--------------------------------------\n",
        "Download the text."
      ]
    },
    {
      "cell_type": "code",
      "metadata": {
        "id": "Q-LF9NXd4Abp",
        "colab": {
          "base_uri": "https://localhost:8080/",
          "height": 323
        },
        "outputId": "5dbe9827-1e10-4bca-a0e4-726fa970aa06"
      },
      "source": [
        "import gdown\n",
        "import os\n",
        "\n",
        "# Model files and their Google Drive IDs.\n",
        "# These are tuples of the form (local_file_name, drive_id).\n",
        "\n",
        "files = [\n",
        "     ('./data/train.csv',     '1kacByJji9j_dzVcuV8Dl7sZKH0pLkwZZ'),\n",
        "     ('./data/test.csv',     '1ZkfmPRFiEVuZ2GlNKw3tZZkn9WwxqADp'),\n",
        "     ('./data/sample_submission.csv', '1QPw2EaY3mKqcMcQYss6FebJXtCRMHN-1'),\n",
        "     ('./data/test_labels.csv', '18Pkeuvm8_6c2iz-vymM8FZ5dyMUONU1j'),\n",
        "]\n",
        "\n",
        "# Make the '/data/' subdirectory.\n",
        "if not os.path.exists('./data/'):\n",
        "    os.mkdir('./data/')\n",
        "\n",
        "print('Downloading dataset files...')\n",
        "\n",
        "# For each of the files...\n",
        "for pair in files:\n",
        "    # Get the local filename.\n",
        "    output = pair[0]\n",
        "\n",
        "    # Get the ID of the file on Google Drive.\n",
        "    file_id = pair[1]\n",
        "\n",
        "    # Download the file.\n",
        "    gdown.download('https://drive.google.com/uc?id=' + file_id, output,\n",
        "                   quiet=False)\n",
        "\n",
        "print('DONE.')"
      ],
      "execution_count": null,
      "outputs": [
        {
          "output_type": "stream",
          "text": [
            "Downloading dataset files...\n"
          ],
          "name": "stdout"
        },
        {
          "output_type": "stream",
          "text": [
            "Downloading...\n",
            "From: https://drive.google.com/uc?id=1kacByJji9j_dzVcuV8Dl7sZKH0pLkwZZ\n",
            "To: /content/data/train.csv\n",
            "68.8MB [00:00, 119MB/s] \n",
            "Downloading...\n",
            "From: https://drive.google.com/uc?id=1ZkfmPRFiEVuZ2GlNKw3tZZkn9WwxqADp\n",
            "To: /content/data/test.csv\n",
            "60.4MB [00:00, 86.3MB/s]\n",
            "Downloading...\n",
            "From: https://drive.google.com/uc?id=1QPw2EaY3mKqcMcQYss6FebJXtCRMHN-1\n",
            "To: /content/data/sample_submission.csv\n",
            "6.28MB [00:00, 116MB/s]\n",
            "Downloading...\n",
            "From: https://drive.google.com/uc?id=18Pkeuvm8_6c2iz-vymM8FZ5dyMUONU1j\n",
            "To: /content/data/test_labels.csv\n",
            "4.98MB [00:00, 173MB/s]"
          ],
          "name": "stderr"
        },
        {
          "output_type": "stream",
          "text": [
            "DONE.\n"
          ],
          "name": "stdout"
        },
        {
          "output_type": "stream",
          "text": [
            "\n"
          ],
          "name": "stderr"
        }
      ]
    },
    {
      "cell_type": "markdown",
      "metadata": {
        "id": "02NmUilP4Abs"
      },
      "source": [
        "### 2.2. Parse & Inspect\n",
        "-------------------\n"
      ]
    },
    {
      "cell_type": "markdown",
      "metadata": {
        "id": "0pOXoBTILCfr"
      },
      "source": [
        "\n",
        "We'll use `pandas` just to help us parse the comma-separated `.csv` file.\n"
      ]
    },
    {
      "cell_type": "code",
      "metadata": {
        "_cell_guid": "a494f561-0c2f-4a38-8973-6b60c22da357",
        "_uuid": "f70ebe669fcf6b434c595cf6fb7a76120bf7809c",
        "trusted": true,
        "id": "FYvXA4_3FcbY"
      },
      "source": [
        "import pandas as pd\n",
        "train = pd.read_csv('./data/train.csv')"
      ],
      "execution_count": null,
      "outputs": []
    },
    {
      "cell_type": "markdown",
      "metadata": {
        "id": "cdyFwHMDK6nL"
      },
      "source": [
        "\n",
        "The training data contains a row per comment, with an id, the text of the comment, and 6 different labels that we'll try to predict."
      ]
    },
    {
      "cell_type": "code",
      "metadata": {
        "_cell_guid": "5ddb337b-c9b2-4fec-9652-cb26769dc3c6",
        "_uuid": "5f5269c56ea6ded273881b0d4dcdb6af83a3e089",
        "scrolled": true,
        "trusted": true,
        "id": "oAtBnY9CFcbb",
        "colab": {
          "base_uri": "https://localhost:8080/",
          "height": 204
        },
        "outputId": "fa8540f0-5d85-48cd-8262-366922ada71c"
      },
      "source": [
        "train.head()"
      ],
      "execution_count": null,
      "outputs": [
        {
          "output_type": "execute_result",
          "data": {
            "text/html": [
              "<div>\n",
              "<style scoped>\n",
              "    .dataframe tbody tr th:only-of-type {\n",
              "        vertical-align: middle;\n",
              "    }\n",
              "\n",
              "    .dataframe tbody tr th {\n",
              "        vertical-align: top;\n",
              "    }\n",
              "\n",
              "    .dataframe thead th {\n",
              "        text-align: right;\n",
              "    }\n",
              "</style>\n",
              "<table border=\"1\" class=\"dataframe\">\n",
              "  <thead>\n",
              "    <tr style=\"text-align: right;\">\n",
              "      <th></th>\n",
              "      <th>id</th>\n",
              "      <th>comment_text</th>\n",
              "      <th>toxic</th>\n",
              "      <th>severe_toxic</th>\n",
              "      <th>obscene</th>\n",
              "      <th>threat</th>\n",
              "      <th>insult</th>\n",
              "      <th>identity_hate</th>\n",
              "    </tr>\n",
              "  </thead>\n",
              "  <tbody>\n",
              "    <tr>\n",
              "      <th>0</th>\n",
              "      <td>0000997932d777bf</td>\n",
              "      <td>Explanation\\nWhy the edits made under my usern...</td>\n",
              "      <td>0</td>\n",
              "      <td>0</td>\n",
              "      <td>0</td>\n",
              "      <td>0</td>\n",
              "      <td>0</td>\n",
              "      <td>0</td>\n",
              "    </tr>\n",
              "    <tr>\n",
              "      <th>1</th>\n",
              "      <td>000103f0d9cfb60f</td>\n",
              "      <td>D'aww! He matches this background colour I'm s...</td>\n",
              "      <td>0</td>\n",
              "      <td>0</td>\n",
              "      <td>0</td>\n",
              "      <td>0</td>\n",
              "      <td>0</td>\n",
              "      <td>0</td>\n",
              "    </tr>\n",
              "    <tr>\n",
              "      <th>2</th>\n",
              "      <td>000113f07ec002fd</td>\n",
              "      <td>Hey man, I'm really not trying to edit war. It...</td>\n",
              "      <td>0</td>\n",
              "      <td>0</td>\n",
              "      <td>0</td>\n",
              "      <td>0</td>\n",
              "      <td>0</td>\n",
              "      <td>0</td>\n",
              "    </tr>\n",
              "    <tr>\n",
              "      <th>3</th>\n",
              "      <td>0001b41b1c6bb37e</td>\n",
              "      <td>\"\\nMore\\nI can't make any real suggestions on ...</td>\n",
              "      <td>0</td>\n",
              "      <td>0</td>\n",
              "      <td>0</td>\n",
              "      <td>0</td>\n",
              "      <td>0</td>\n",
              "      <td>0</td>\n",
              "    </tr>\n",
              "    <tr>\n",
              "      <th>4</th>\n",
              "      <td>0001d958c54c6e35</td>\n",
              "      <td>You, sir, are my hero. Any chance you remember...</td>\n",
              "      <td>0</td>\n",
              "      <td>0</td>\n",
              "      <td>0</td>\n",
              "      <td>0</td>\n",
              "      <td>0</td>\n",
              "      <td>0</td>\n",
              "    </tr>\n",
              "  </tbody>\n",
              "</table>\n",
              "</div>"
            ],
            "text/plain": [
              "                 id  ... identity_hate\n",
              "0  0000997932d777bf  ...             0\n",
              "1  000103f0d9cfb60f  ...             0\n",
              "2  000113f07ec002fd  ...             0\n",
              "3  0001b41b1c6bb37e  ...             0\n",
              "4  0001d958c54c6e35  ...             0\n",
              "\n",
              "[5 rows x 8 columns]"
            ]
          },
          "metadata": {
            "tags": []
          },
          "execution_count": 12
        }
      ]
    },
    {
      "cell_type": "markdown",
      "metadata": {
        "id": "mReOku_TtXsA"
      },
      "source": [
        "There are roughly 160k training examples."
      ]
    },
    {
      "cell_type": "code",
      "metadata": {
        "id": "xNORNxYvBTzv",
        "colab": {
          "base_uri": "https://localhost:8080/",
          "height": 34
        },
        "outputId": "09142eb0-8fda-4b5a-c32d-34dfff5ef01d"
      },
      "source": [
        "print('There are {:,} training examples.'.format(len(train)))"
      ],
      "execution_count": null,
      "outputs": [
        {
          "output_type": "stream",
          "text": [
            "There are 159,571 training examples.\n"
          ],
          "name": "stdout"
        }
      ]
    },
    {
      "cell_type": "markdown",
      "metadata": {
        "id": "6bwX6vFJLjem"
      },
      "source": [
        "Display some of the comments labeled as containing an attack. Be prepared to see some terrible human behavior... (I've removed the output for this cell!)"
      ]
    },
    {
      "cell_type": "code",
      "metadata": {
        "id": "AjfJnK6qLjen"
      },
      "source": [
        "import textwrap\n",
        "import random\n",
        "\n",
        "# Wrap text to 80 characters.\n",
        "wrapper = textwrap.TextWrapper(width=80)\n",
        "\n",
        "# Filter to just the \"insult\" comments.\n",
        "insults = train.loc[train.insult == 1]['comment_text']\n",
        "comments = train.loc[train.insult == 1]['comment_text']\n",
        "\n",
        "# Randomly choose some examples.\n",
        "for i in range(5):\n",
        "    j = random.choice(insults.index)\n",
        "\n",
        "    print('')\n",
        "    print(wrapper.fill(insults[j]))\n",
        "    print('')\n"
      ],
      "execution_count": null,
      "outputs": []
    },
    {
      "cell_type": "markdown",
      "metadata": {
        "id": "IPc3BM4-tOlZ"
      },
      "source": [
        "### 2.3. Class Distribution"
      ]
    },
    {
      "cell_type": "markdown",
      "metadata": {
        "id": "phUj1ZYwpse6"
      },
      "source": [
        "To analyze the distribution of the labels, let's first explicitly flag the comments which are not toxic (have no labels set to 1)."
      ]
    },
    {
      "cell_type": "code",
      "metadata": {
        "_cell_guid": "c66f79d1-1d9f-4d94-82c1-8026af198f2a",
        "_uuid": "4ba6ef86c82f073bf411785d971a694348c3efa9",
        "trusted": true,
        "id": "V5O4Oe-mosdC"
      },
      "source": [
        "# These are the six possible labels.\n",
        "label_cols = ['toxic', 'severe_toxic', 'obscene', 'threat', 'insult', 'identity_hate']\n",
        "\n",
        "# Select just the labels (not the text), and for every row, check whether any\n",
        "# of the labels are \"1\".\n",
        "has_labels = train[label_cols].any(axis=1)\n",
        "\n",
        "# Add a new column indicating which samples have no toxic labels.\n",
        "train['none'] = 1 - has_labels\n",
        "\n",
        "# Add the 'none' column to our list of label names.\n",
        "label_cols.append('none')"
      ],
      "execution_count": null,
      "outputs": []
    },
    {
      "cell_type": "markdown",
      "metadata": {
        "id": "AefD40jnrZQR"
      },
      "source": [
        "Total the number of samples with each label."
      ]
    },
    {
      "cell_type": "code",
      "metadata": {
        "id": "cSVtWB-Op3mW",
        "colab": {
          "base_uri": "https://localhost:8080/",
          "height": 153
        },
        "outputId": "966a118d-3f62-4af8-8bcb-5a49d1173b66"
      },
      "source": [
        "# Tally up each label separately.\n",
        "label_counts = train[label_cols].sum(axis=0)\n",
        "\n",
        "print(label_counts)"
      ],
      "execution_count": null,
      "outputs": [
        {
          "output_type": "stream",
          "text": [
            "toxic             15294\n",
            "severe_toxic       1595\n",
            "obscene            8449\n",
            "threat              478\n",
            "insult             7877\n",
            "identity_hate      1405\n",
            "none             143346\n",
            "dtype: int64\n"
          ],
          "name": "stdout"
        }
      ]
    },
    {
      "cell_type": "markdown",
      "metadata": {
        "id": "y7GiyO1LrHm4"
      },
      "source": [
        "So what percentage are toxic in some way?"
      ]
    },
    {
      "cell_type": "code",
      "metadata": {
        "id": "XtDry4sbr1lR",
        "colab": {
          "base_uri": "https://localhost:8080/",
          "height": 34
        },
        "outputId": "45a51b74-66dc-46a0-e716-01f182770448"
      },
      "source": [
        "print('{:.1%} of the comments are safe.'.format(label_counts['none'] / len(train)))"
      ],
      "execution_count": null,
      "outputs": [
        {
          "output_type": "stream",
          "text": [
            "89.8% of the comments are safe.\n"
          ],
          "name": "stdout"
        }
      ]
    },
    {
      "cell_type": "markdown",
      "metadata": {
        "id": "AtIKdNA6nnfr"
      },
      "source": [
        "How many samples are there of each type?\n"
      ]
    },
    {
      "cell_type": "code",
      "metadata": {
        "id": "NRqXl9XQnnfs",
        "colab": {
          "base_uri": "https://localhost:8080/",
          "height": 423
        },
        "outputId": "27f65449-d703-4853-93f6-04749c614675"
      },
      "source": [
        "import matplotlib.pyplot as plt\n",
        "import seaborn as sns\n",
        "import numpy as np\n",
        "\n",
        "sns.set(style='darkgrid')\n",
        "\n",
        "# Increase the plot size and font size.\n",
        "sns.set(font_scale=1.5)\n",
        "plt.rcParams[\"figure.figsize\"] = (10,5)\n",
        "\n",
        "# Plot the number of tokens of each length.\n",
        "sns.barplot(x=label_cols, y=label_counts)\n",
        "plt.title('Class Distribution')\n",
        "plt.xlabel('Category')\n",
        "plt.ylabel('# of Training Samples')\n"
      ],
      "execution_count": null,
      "outputs": [
        {
          "output_type": "stream",
          "text": [
            "/usr/local/lib/python3.6/dist-packages/statsmodels/tools/_testing.py:19: FutureWarning: pandas.util.testing is deprecated. Use the functions in the public API at pandas.testing instead.\n",
            "  import pandas.util.testing as tm\n"
          ],
          "name": "stderr"
        },
        {
          "output_type": "execute_result",
          "data": {
            "text/plain": [
              "Text(0, 0.5, '# of Training Samples')"
            ]
          },
          "metadata": {
            "tags": []
          },
          "execution_count": 19
        },
        {
          "output_type": "display_data",
          "data": {
            "image/png": "[encoded data removed]",
            "text/plain": [
              "<Figure size 720x360 with 1 Axes>"
            ]
          },
          "metadata": {
            "tags": []
          }
        }
      ]
    },
    {
      "cell_type": "markdown",
      "metadata": {
        "id": "So0AAUbgsqkB"
      },
      "source": [
        "Based on the above, if we just predicted \"not toxic\" for *every single training sample*, we would get ~90% accuracy on the training set! So we'll have to be careful in how we interpret our accuracy on this task to make sure we're actually doing better than this."
      ]
    },
    {
      "cell_type": "markdown",
      "metadata": {
        "id": "zXbBB1NNv3wj"
      },
      "source": [
        "## S3. Tokenization & Truncation"
      ]
    },
    {
      "cell_type": "markdown",
      "metadata": {
        "id": "aHFUYGTnv3wk"
      },
      "source": [
        "We'll need to tokenize all of the text in our dataset, using BERT's own tokenizer, in order to feed the text into BERT for training.\n",
        "\n",
        "Before we do that, we have an important decision to make about the maximum \"sequence length\" (the number of tokens in an input sentence/passage). BERT is limited to a maximum input length of 512 tokens. Beyond that, long input sequences mean long training times and potential GPU memory issues.\n",
        "\n",
        "For these reasons, we'll be truncating some of the text samples to a shorter length. To decide on this length, we'll start by exploring the lengths of the text samples in our dataset.\n"
      ]
    },
    {
      "cell_type": "markdown",
      "metadata": {
        "id": "OMHzhnmuGrpb"
      },
      "source": [
        "### 3.1. Load BertTokenizer"
      ]
    },
    {
      "cell_type": "markdown",
      "metadata": {
        "id": "vT0b0-5NGq0y"
      },
      "source": [
        "\n",
        "In order to see the distribution of comment lengths *in terms of BERT tokens*, we'll need to first apply the BertTokenizer to the dataset."
      ]
    },
    {
      "cell_type": "code",
      "metadata": {
        "id": "cZiRfpUEv3wl",
        "colab": {
          "base_uri": "https://localhost:8080/",
          "height": 83,
          "referenced_widgets": [
            "bab9a089ff4d43bf94bd939eafdf9457",
            "e9720ce05d0843b4bf9c7c4b1e9561fc",
            "a690a36c81b242efb4fe8a563beb7218",
            "311be2decf6e49af86fd0aeb21f4147a",
            "22ae9809897043e2a58a3cb1cce2c06e",
            "bbea6641df0f40b2a3c800163e9333c3",
            "27a4a0450bac4f688e14ce590a09346e",
            "3224349678c541e2afd39825a8efd89c"
          ]
        },
        "outputId": "d68e3623-2734-4acf-8110-ac3769820ffa"
      },
      "source": [
        "from transformers import BertTokenizer\n",
        "\n",
        "# Load the BERT tokenizer.\n",
        "print('Loading BERT tokenizer...')\n",
        "tokenizer = BertTokenizer.from_pretrained('bert-base-uncased', do_lower_case=True)"
      ],
      "execution_count": null,
      "outputs": [
        {
          "output_type": "stream",
          "text": [
            "Loading BERT tokenizer...\n"
          ],
          "name": "stdout"
        },
        {
          "output_type": "display_data",
          "data": {
            "application/vnd.jupyter.widget-view+json": {
              "model_id": "bab9a089ff4d43bf94bd939eafdf9457",
              "version_minor": 0,
              "version_major": 2
            },
            "text/plain": [
              "HBox(children=(FloatProgress(value=0.0, description='Downloading', max=231508.0, style=ProgressStyle(descripti…"
            ]
          },
          "metadata": {
            "tags": []
          }
        },
        {
          "output_type": "stream",
          "text": [
            "\n"
          ],
          "name": "stdout"
        }
      ]
    },
    {
      "cell_type": "markdown",
      "metadata": {
        "id": "iFB46zTrv3wo"
      },
      "source": [
        "### 3.2. Comment Length Distribution"
      ]
    },
    {
      "cell_type": "markdown",
      "metadata": {
        "id": "qWKdJWEyv3wo"
      },
      "source": [
        "To decide on a truncation strategy for this dataset, let's first look at the distribution of comment lenghts.\n",
        "\n",
        "> **NOTE:** To save time, you can skip running the cells in section 3.2. (But still read through it, of course!)\n",
        "\n",
        "To do this, our first step is to tokenize all of the comments in the training set using the `tokenizer.encode` function.\n",
        "\n",
        "The `tokenizer.encode` function combines multiple steps for us:\n",
        "1. Split the sentence into tokens.\n",
        "2. Add the special `[CLS]` and `[SEP]` tokens.\n",
        "3. Map the tokens to their IDs.\n",
        "\n",
        "Later, we will use the `tokenizer.encode_plus` function, which will perform truncation and padding for us! Here, though, we just want to see the *unmodified* sequence lengths.\n"
      ]
    },
    {
      "cell_type": "code",
      "metadata": {
        "id": "HRgc9BE0v3wp",
        "colab": {
          "base_uri": "https://localhost:8080/",
          "height": 187
        },
        "outputId": "5f067cfc-0552-4809-c86c-36f1fbbc12e0"
      },
      "source": [
        "import numpy as np\n",
        "import logging\n",
        "\n",
        "# By default, the tokenizer will spit out a warning whenever we tokenize a\n",
        "# sample which ends up being more than 512 tokens. We don't care about that for\n",
        "# now, though, and this cell will produce a lot of those warnings! So we'll\n",
        "# adjust the logging settings to suppress those warnings and keep the output\n",
        "# cell cleaner.\n",
        "logging.getLogger(\"transformers.tokenization_utils_base\").setLevel(logging.ERROR)\n",
        "\n",
        "# Record the length of each sequence (in terms of BERT tokens).\n",
        "lengths = []\n",
        "\n",
        "print('Tokenizing comments...')\n",
        "\n",
        "# For every sentence...\n",
        "for index, row in train.iterrows():\n",
        "\n",
        "    # Report progress.\n",
        "    if ((len(lengths) % 20000) == 0):\n",
        "        print('  Tokenized {:,} comments.'.format(len(lengths)))\n",
        "\n",
        "    # `encode` will:\n",
        "    #   (1) Tokenize the sentence.\n",
        "    #   (2) Prepend the `[CLS]` token to the start.\n",
        "    #   (3) Append the `[SEP]` token to the end.\n",
        "    #   (4) Map tokens to their IDs.\n",
        "    encoded_sent = tokenizer.encode(\n",
        "                        row['comment_text'],     # Sentence to encode.\n",
        "                        add_special_tokens = True, # Add '[CLS]' and '[SEP]'\n",
        "                   )\n",
        "\n",
        "    # Record the non-truncated length.\n",
        "    lengths.append(len(encoded_sent))\n",
        "\n",
        "print('DONE.')"
      ],
      "execution_count": null,
      "outputs": [
        {
          "output_type": "stream",
          "text": [
            "Tokenizing comments...\n",
            "  Tokenized 0 comments.\n",
            "  Tokenized 20,000 comments.\n",
            "  Tokenized 40,000 comments.\n",
            "  Tokenized 60,000 comments.\n",
            "  Tokenized 80,000 comments.\n",
            "  Tokenized 100,000 comments.\n",
            "  Tokenized 120,000 comments.\n",
            "  Tokenized 140,000 comments.\n",
            "DONE.\n"
          ],
          "name": "stdout"
        }
      ]
    },
    {
      "cell_type": "markdown",
      "metadata": {
        "id": "JSwwRWmSv3wr"
      },
      "source": [
        "Let's grab some quick statistics--what are the min, max and median comment lengths?"
      ]
    },
    {
      "cell_type": "code",
      "metadata": {
        "id": "_pt5-ukhv3wr",
        "colab": {
          "base_uri": "https://localhost:8080/",
          "height": 68
        },
        "outputId": "f06f4436-1ce6-4c09-849f-9f3821f3561e"
      },
      "source": [
        "print('   Min length: {:,} tokens'.format(min(lengths)))\n",
        "print('   Max length: {:,} tokens'.format(max(lengths)))\n",
        "print('Median length: {:,} tokens'.format(int(np.median(lengths))))"
      ],
      "execution_count": null,
      "outputs": [
        {
          "output_type": "stream",
          "text": [
            "   Min length: 4 tokens\n",
            "   Max length: 4,950 tokens\n",
            "Median length: 52 tokens\n"
          ],
          "name": "stdout"
        }
      ]
    },
    {
      "cell_type": "markdown",
      "metadata": {
        "id": "k1u3zyPwv3ww"
      },
      "source": [
        "To further analyze it, let's plot the distribution. To keep the scale of the x-axis reasonable, *we'll clip the lengths to 512.*\n"
      ]
    },
    {
      "cell_type": "code",
      "metadata": {
        "id": "ZJpqBsE_v3ww",
        "colab": {
          "base_uri": "https://localhost:8080/",
          "height": 372
        },
        "outputId": "14905c05-5da9-4887-a66c-4c6c56ec0a26"
      },
      "source": [
        "import matplotlib.pyplot as plt\n",
        "import seaborn as sns\n",
        "import numpy as np\n",
        "\n",
        "sns.set(style='darkgrid')\n",
        "\n",
        "# Increase the plot size and font size.\n",
        "sns.set(font_scale=1.5)\n",
        "plt.rcParams[\"figure.figsize\"] = (10,5)\n",
        "\n",
        "# Truncate any comment lengths greater than 512.\n",
        "trunc_lengths = [min(l, 512) for l in lengths]\n",
        "\n",
        "# Plot the distribution of comment lengths.\n",
        "sns.distplot(trunc_lengths, kde=False, rug=False)\n",
        "\n",
        "# Alternatively, you might try using a log scale on the x-axis, but this is\n",
        "# tricky. See here for one approach:\n",
        "# https://stackoverflow.com/questions/47850202/plotting-a-histogram-on-a-log-scale-with-matplotlib?rq=1\n",
        "#plt.xscale('log')\n",
        "\n",
        "plt.title('Comment Lengths')\n",
        "plt.xlabel('Comment Length')\n",
        "plt.ylabel('# of Comments')\n",
        "\n",
        "plt.show()"
      ],
      "execution_count": null,
      "outputs": [
        {
          "output_type": "display_data",
          "data": {
            "image/png": "[encoded data removed]",
            "text/plain": [
              "<Figure size 720x360 with 1 Axes>"
            ]
          },
          "metadata": {
            "tags": []
          }
        }
      ]
    },
    {
      "cell_type": "markdown",
      "metadata": {
        "id": "bPqD2JpMBGvL"
      },
      "source": [
        "Clearly the majority of the comments are relatively short. Let's count up how many comments would be truncated based on different choices of `max_len`."
      ]
    },
    {
      "cell_type": "code",
      "metadata": {
        "id": "Yjyl5YAZArgB",
        "colab": {
          "base_uri": "https://localhost:8080/",
          "height": 136
        },
        "outputId": "3148266c-a648-4ef1-9f03-603cb9bce03f"
      },
      "source": [
        "import numpy as np\n",
        "\n",
        "# Cast the list to a numpy array so we can use some numpy features.\n",
        "lengths = np.asarray(lengths)\n",
        "\n",
        "# Get the total number of comments.\n",
        "num_comments = len(lengths)\n",
        "\n",
        "# Check the following lengths:\n",
        "max_lens = [128, 256, 300, 400, 512]\n",
        "\n",
        "print('How many comments will be truncated?\\n')\n",
        "\n",
        "# For each choice...\n",
        "for max_len in max_lens:\n",
        "\n",
        "    # Calculate how many comments will be truncacted.\n",
        "    num_over = np.sum(lengths > max_len)\n",
        "\n",
        "    # And as a percentage.\n",
        "    prcnt_over = float(num_over) / float(num_comments)\n",
        "\n",
        "    print('max_len = {:}  -->  {:>7,} of {:>7,}  ({:>5.1%})  ' \\\n",
        "          'will be truncated '.format(\n",
        "              max_len, num_over, num_comments, prcnt_over\n",
        "          ))"
      ],
      "execution_count": null,
      "outputs": [
        {
          "output_type": "stream",
          "text": [
            "How many comments will be truncated?\n",
            "\n",
            "max_len = 128  -->   30,790 of 159,571  (19.3%)  will be truncated \n",
            "max_len = 256  -->   11,063 of 159,571  ( 6.9%)  will be truncated \n",
            "max_len = 300  -->    8,446 of 159,571  ( 5.3%)  will be truncated \n",
            "max_len = 400  -->    5,159 of 159,571  ( 3.2%)  will be truncated \n",
            "max_len = 512  -->    3,523 of 159,571  ( 2.2%)  will be truncated \n"
          ],
          "name": "stdout"
        }
      ]
    },
    {
      "cell_type": "markdown",
      "metadata": {
        "id": "asqwSCR0zbMc"
      },
      "source": [
        "### 3.3. Choose max_len"
      ]
    },
    {
      "cell_type": "markdown",
      "metadata": {
        "id": "Ff-eSxYL6hZC"
      },
      "source": [
        "There are several factors that impact our choice of the maximum sequence length `max_len`:\n",
        "1. **Training Time** - Training time is quadratic with `max_len`. `max_len = 512` will take 4x  longer to train than `max_len = 256`, and 16x longer than `max_len = 128`!\n",
        "2. **Accuracy** - Truncating the samples to a shorter length will presumably hurt accuracy, due to the loss of information. How much it hurts depends on the dataset, though--in a previous Notebook ([Document Classification](https://colab.research.google.com/drive/1iWrcYR_kG_6yGbCZJ0qqgaOigYlW9qc8#scrollTo=Qxi0mOhbmRLi)) which worked with the two-class version of this Wikipedia comments dataset, we found that truncation had little impact on our score.\n",
        "3. **GPU Memory** - The combination of `max_len` and `batch_size` need to fit within the memory limits of our GPU. We explored this limit in a previous Notebook ([Multiclass Classification](https://colab.research.google.com/drive/1iWrcYR_kG_6yGbCZJ0qqgaOigYlW9qc8#scrollTo=Qxi0mOhbmRLi)). For a Tesla K80 (which has 12GB of RAM!), with `batch_size = 16`, the maximum length we can use (without running of memory) is about `max_len = 400`.\n",
        "\n",
        "For this notebook, we'll use **`max_len = 128`** to speed up training times, and we'll see that BERT still delivers high accuracy on this benchmark, despite the truncation.\n",
        "\n"
      ]
    },
    {
      "cell_type": "code",
      "metadata": {
        "id": "S5E9pERUEKL5"
      },
      "source": [
        "# Set our sequence length to pad or truncate all of our samples to.\n",
        "max_len = 128"
      ],
      "execution_count": null,
      "outputs": []
    },
    {
      "cell_type": "markdown",
      "metadata": {
        "id": "aRp4O7D295d_"
      },
      "source": [
        "### 3.4. Tokenize Dataset\n"
      ]
    },
    {
      "cell_type": "markdown",
      "metadata": {
        "id": "tIWAoWL2RK1p"
      },
      "source": [
        "Now we're ready to perform the real tokenization.\n",
        "\n",
        "The `tokenizer.encode_plus` function combines multiple steps for us:\n",
        "\n",
        "1. Split the sentence into tokens.\n",
        "2. Add the special `[CLS]` and `[SEP]` tokens.\n",
        "3. Map the tokens to their IDs.\n",
        "4. Pad or truncate all sentences to the same length.\n",
        "5. Create the attention masks which explicitly differentiate real tokens from `[PAD]` tokens.\n",
        "6. Cast everything to pytorch tensors.\n",
        "\n",
        "The first four features are in `tokenizer.encode`, but I'm using `tokenizer.encode_plus` to get the fifth item (attention masks). Documentation is [here](https://huggingface.co/transformers/main_classes/tokenizer.html?highlight=encode_plus#transformers.PreTrainedTokenizer.encode_plus).\n"
      ]
    },
    {
      "cell_type": "code",
      "metadata": {
        "id": "8jsHTrZEAV6-"
      },
      "source": [
        "# Optional - You can select a subsample of the dataset to run through the\n",
        "#            Notebook quicker.\n",
        "if False:\n",
        "    # Take just the first 4,000 training samples.\n",
        "    train = train[:4000]"
      ],
      "execution_count": null,
      "outputs": []
    },
    {
      "cell_type": "code",
      "metadata": {
        "id": "ca1rne6DTvLA",
        "colab": {
          "base_uri": "https://localhost:8080/",
          "height": 374
        },
        "outputId": "102092e1-d6ed-48ff-d79f-75689055981b"
      },
      "source": [
        "import torch\n",
        "import time\n",
        "\n",
        "input_ids = []\n",
        "attn_masks = []\n",
        "labels = []\n",
        "\n",
        "t0 = time.time()\n",
        "\n",
        "# ======== Encoding ========\n",
        "\n",
        "print('Encoding {:,} training examples...'.format(len(train)))\n",
        "\n",
        "# For every training example...\n",
        "for (index, row) in train.iterrows():\n",
        "\n",
        "    # Report progress.\n",
        "    if ((len(input_ids) % 15000) == 0):\n",
        "        print('  Encoded {:,} comments.'.format(len(input_ids)))\n",
        "\n",
        "    # Convert sentence pairs to input IDs, with attention masks.\n",
        "    encoded_dict = tokenizer.encode_plus(row['comment_text'],  # The text to encode.\n",
        "                                        max_length=max_len,    # Pad or truncate to this lenght.\n",
        "                                        pad_to_max_length=True,\n",
        "                                        truncation=True,\n",
        "                                        return_tensors='pt')   # Return objects as PyTorch tensors.\n",
        "\n",
        "    # Add this example to our lists.\n",
        "    input_ids.append(encoded_dict['input_ids'])\n",
        "    attn_masks.append(encoded_dict['attention_mask'])\n",
        "\n",
        "print('\\nDONE. {:,} examples.'.format(len(input_ids)))\n",
        "\n",
        "# ======== List of Examples --> Tensor ========\n",
        "\n",
        "# Convert each Python list of Tensors into a 2D Tensor matrix.\n",
        "input_ids = torch.cat(input_ids, dim=0)\n",
        "attn_masks = torch.cat(attn_masks, dim=0)\n",
        "\n",
        "# ======== Prepare Labels ========\n",
        "\n",
        "# Select the label columns for all examples.\n",
        "labels = train[['toxic', 'severe_toxic', 'obscene', 'threat', 'insult', 'identity_hate']]\n",
        "\n",
        "# The labels are either 0 or 1. Despite this, we need to cast the values to\n",
        "# floats--otherwise our loss function will throw an error.\n",
        "# https://discuss.pytorch.org/t/nn-bcewithlogitsloss-cant-accept-one-hot-target/59980\n",
        "labels = labels.to_numpy().astype(float)\n",
        "\n",
        "# Cast the labels list to a 2D Tensor.\n",
        "labels = torch.tensor(labels)\n",
        "\n",
        "# ======== Summary ========\n",
        "\n",
        "print('\\nData structure shapes:')\n",
        "print('   input_ids:  {:}'.format(str(input_ids.shape)))\n",
        "print('  attn_masks:  {:}'.format(str(attn_masks.shape)))\n",
        "print('      labels:  {:}'.format(str(labels.shape)))\n",
        "\n",
        "print('\\nEncoding took {:.0f} seconds'.format(time.time() - t0))"
      ],
      "execution_count": null,
      "outputs": [
        {
          "output_type": "stream",
          "text": [
            "Encoding 159,571 training examples...\n",
            "  Encoded 0 comments.\n",
            "  Encoded 15,000 comments.\n",
            "  Encoded 30,000 comments.\n",
            "  Encoded 45,000 comments.\n",
            "  Encoded 60,000 comments.\n",
            "  Encoded 75,000 comments.\n",
            "  Encoded 90,000 comments.\n",
            "  Encoded 105,000 comments.\n",
            "  Encoded 120,000 comments.\n",
            "  Encoded 135,000 comments.\n",
            "  Encoded 150,000 comments.\n",
            "\n",
            "DONE. 159,571 examples.\n",
            "\n",
            "Data structure shapes:\n",
            "   input_ids:  torch.Size([159571, 128])\n",
            "  attn_masks:  torch.Size([159571, 128])\n",
            "      labels:  torch.Size([159571, 6])\n",
            "\n",
            "Encoding took 229 seconds\n"
          ],
          "name": "stdout"
        }
      ]
    },
    {
      "cell_type": "markdown",
      "metadata": {
        "id": "voHe1wQsQ96F"
      },
      "source": [
        "### 3.5. Split-Off a Validation Set"
      ]
    },
    {
      "cell_type": "markdown",
      "metadata": {
        "id": "XjzJmFghC8h8"
      },
      "source": [
        "This dataset already has separate training and test sets, but we're going to further divide up our training set to use 90% for training and 10% for *validation*. This validation set will help us detect over-fitting during the training process."
      ]
    },
    {
      "cell_type": "code",
      "metadata": {
        "id": "N9_K_nOGUzhD"
      },
      "source": [
        "from torch.utils.data import TensorDataset, random_split\n",
        "\n",
        "# Combine the training inputs into a TensorDataset.\n",
        "dataset = TensorDataset(input_ids, attn_masks, labels)\n",
        "\n",
        "# Create a 90-10 train-validation split. Calculate the number of samples to\n",
        "# include in each set.\n",
        "train_size = int(0.9 * len(dataset))\n",
        "val_size = len(dataset) - train_size\n",
        "\n",
        "# Divide the dataset by randomly selecting samples.\n",
        "train_dataset, val_dataset = random_split(dataset, [train_size, val_size])"
      ],
      "execution_count": null,
      "outputs": []
    },
    {
      "cell_type": "markdown",
      "metadata": {
        "id": "8bwa6Rts-02-"
      },
      "source": [
        "## S4. Train Our Classification Model"
      ]
    },
    {
      "cell_type": "markdown",
      "metadata": {
        "id": "3xYQ3iLO08SX"
      },
      "source": [
        "Now that our input data is properly formatted, it's time to fine tune the BERT model."
      ]
    },
    {
      "cell_type": "markdown",
      "metadata": {
        "id": "nSU7yERLP_66"
      },
      "source": [
        "### 4.1. Using Colab GPU for Training\n"
      ]
    },
    {
      "cell_type": "markdown",
      "metadata": {
        "id": "GI0iOY8zvZzL"
      },
      "source": [
        "\n",
        "Google Colab offers free GPUs and TPUs! Since we'll be training a large neural network it's best to take advantage of this (in this case we'll attach a GPU), otherwise training will take a very long time.\n",
        "\n",
        "A GPU can be added by going to the menu and selecting:\n",
        "\n",
        "`Edit 🡒 Notebook Settings 🡒 Hardware accelerator 🡒 (GPU)`"
      ]
    },
    {
      "cell_type": "markdown",
      "metadata": {
        "id": "cqG7FzRVFEIv"
      },
      "source": [
        "In order for torch to use the GPU, we need to identify and specify the GPU as the device. Later, in our training loop, we will load data onto the device."
      ]
    },
    {
      "cell_type": "code",
      "metadata": {
        "id": "oYsV4H8fCpZ-",
        "colab": {
          "base_uri": "https://localhost:8080/",
          "height": 51
        },
        "outputId": "30aa405f-8008-4213-ff7e-909bc4de8abb"
      },
      "source": [
        "import torch\n",
        "\n",
        "# If there's a GPU available...\n",
        "if torch.cuda.is_available():\n",
        "\n",
        "    # Tell PyTorch to use the GPU.\n",
        "    device = torch.device(\"cuda\")\n",
        "\n",
        "    print('There are %d GPU(s) available.' % torch.cuda.device_count())\n",
        "\n",
        "    print('We will use the GPU:', torch.cuda.get_device_name(0))\n",
        "\n",
        "# If not...\n",
        "else:\n",
        "    print('No GPU available, using the CPU instead.')\n",
        "    device = torch.device(\"cpu\")"
      ],
      "execution_count": null,
      "outputs": [
        {
          "output_type": "stream",
          "text": [
            "There are 1 GPU(s) available.\n",
            "We will use the GPU: Tesla T4\n"
          ],
          "name": "stdout"
        }
      ]
    },
    {
      "cell_type": "markdown",
      "metadata": {
        "id": "xBehPTA9Nvjf"
      },
      "source": [
        "### 4.1. Initialize Model with Pre-Trained Weights"
      ]
    },
    {
      "cell_type": "code",
      "metadata": {
        "id": "gFsCTp_mporB",
        "colab": {
          "base_uri": "https://localhost:8080/",
          "height": 237,
          "referenced_widgets": [
            "43a52cdf89a14105bbad0924907aadeb",
            "aca216bf466f499dbf4296fa11702ee5",
            "bd58187112584741b200a4b38f6e97e2",
            "4fbf21904cd7495ba255ed1b67ef973a",
            "33091cf4f5ef4714853451fa0bf806f0",
            "d2d481022b2345febda82bc4da7845c9",
            "10aa0ffa467043c58b4028d90837aeb3",
            "679cff2effca47cf944bb24c121795d4",
            "a5ff8fbd1eb74cc39803decfa4bfe81d",
            "bab827bac8fd45f0b3f6a0d02c587d69",
            "d84aa85b154a4b1883f8837d20f7fe31",
            "48410bf18fb24461a2bc547198b8d5dd",
            "7b1e21453db947f89b24a7d106364afa",
            "39d9dacb02f544d6818873a252a559a7",
            "6954266c4d414084bf93f1a34857f0e2",
            "1eb34652bb7546ff94588fff50cb281b"
          ]
        },
        "outputId": "2cb8b5e4-e69e-44f6-a15c-5d05057cb188"
      },
      "source": [
        "from transformers import AdamW, BertConfig\n",
        "\n",
        "# Load BertForSequenceClassification, the pretrained BERT model with a single\n",
        "# linear classification layer on top.\n",
        "model = BertForMultiLabelSequenceClassification.from_pretrained(\n",
        "    \"bert-base-uncased\", # Use the 12-layer BERT model, with an uncased vocab.\n",
        "    num_labels = 6,\n",
        "    output_attentions = False, # Whether the model returns attentions weights.\n",
        "    output_hidden_states = False, # Whether the model returns all hidden-states.\n",
        ")\n",
        "\n",
        "# Tell pytorch to run this model on the GPU.\n",
        "desc = model.cuda()\n",
        "\n",
        "print (\"Model loaded.\")"
      ],
      "execution_count": null,
      "outputs": [
        {
          "output_type": "display_data",
          "data": {
            "application/vnd.jupyter.widget-view+json": {
              "model_id": "43a52cdf89a14105bbad0924907aadeb",
              "version_minor": 0,
              "version_major": 2
            },
            "text/plain": [
              "HBox(children=(FloatProgress(value=0.0, description='Downloading', max=433.0, style=ProgressStyle(description_…"
            ]
          },
          "metadata": {
            "tags": []
          }
        },
        {
          "output_type": "stream",
          "text": [
            "\n"
          ],
          "name": "stdout"
        },
        {
          "output_type": "display_data",
          "data": {
            "application/vnd.jupyter.widget-view+json": {
              "model_id": "a5ff8fbd1eb74cc39803decfa4bfe81d",
              "version_minor": 0,
              "version_major": 2
            },
            "text/plain": [
              "HBox(children=(FloatProgress(value=0.0, description='Downloading', max=440473133.0, style=ProgressStyle(descri…"
            ]
          },
          "metadata": {
            "tags": []
          }
        },
        {
          "output_type": "stream",
          "text": [
            "\n"
          ],
          "name": "stdout"
        },
        {
          "output_type": "stream",
          "text": [
            "Some weights of the model checkpoint at bert-base-uncased were not used when initializing BertForMultiLabelSequenceClassification: ['cls.predictions.bias', 'cls.predictions.transform.dense.weight', 'cls.predictions.transform.dense.bias', 'cls.predictions.decoder.weight', 'cls.seq_relationship.weight', 'cls.seq_relationship.bias', 'cls.predictions.transform.LayerNorm.weight', 'cls.predictions.transform.LayerNorm.bias']\n",
            "- This IS expected if you are initializing BertForMultiLabelSequenceClassification from the checkpoint of a model trained on another task or with another architecture (e.g. initializing a BertForSequenceClassification model from a BertForPretraining model).\n",
            "- This IS NOT expected if you are initializing BertForMultiLabelSequenceClassification from the checkpoint of a model that you expect to be exactly identical (initializing a BertForSequenceClassification model from a BertForSequenceClassification model).\n",
            "Some weights of BertForMultiLabelSequenceClassification were not initialized from the model checkpoint at bert-base-uncased and are newly initialized: ['classifier.weight', 'classifier.bias']\n",
            "You should probably TRAIN this model on a down-stream task to be able to use it for predictions and inference.\n"
          ],
          "name": "stderr"
        },
        {
          "output_type": "stream",
          "text": [
            "Model loaded.\n"
          ],
          "name": "stdout"
        }
      ]
    },
    {
      "cell_type": "markdown",
      "metadata": {
        "id": "4EuV5XkeRENS"
      },
      "source": [
        "### 4.4. Batch Size & DataLoaders"
      ]
    },
    {
      "cell_type": "markdown",
      "metadata": {
        "id": "dD9i6Z2pG-sN"
      },
      "source": [
        "We'll also create a PyTorch DataLoader for our dataset.\n",
        "\n",
        "The DataLoader simply handles the creation of training batches for us.\n",
        "\n",
        "**Choice of Batch Size**\n",
        "\n",
        "Training on a small batch of training samples at once (rather than one sample at a time) makes more efficient use of our GPU's parallel processing capabilities, and seems to even improve the model's accuracy.\n",
        "\n",
        "The BERT authors recommend trying a batch size of either 16 or 32. For this Notebook, we'll be using a **batch size of 16**.\n",
        "\n",
        "**Randomization**\n",
        "\n",
        "The DataLoader for our training set will construct batches for us by randomly selecting different samples to put in each batch (each training sample will only appear in one batch, though!).\n",
        "\n",
        "Randomizing the training samples is considered good practice. Moreover, I believe the randomization is re-done for each training epoch (each pass through our training set), and that this can improve model accuracy.\n",
        "\n",
        "For validation, it doesn't matter what order we execute in."
      ]
    },
    {
      "cell_type": "code",
      "metadata": {
        "id": "xBFuDdywU2DB"
      },
      "source": [
        "from torch.utils.data import DataLoader, RandomSampler, SequentialSampler\n",
        "\n",
        "# Specify our batch size.\n",
        "batch_size = 16\n",
        "\n",
        "# Create the DataLoaders for our training sets.\n",
        "# We'll take training samples in random order.\n",
        "train_dataloader = DataLoader(\n",
        "            train_dataset,  # The training samples.\n",
        "            sampler = RandomSampler(train_dataset), # Select batches randomly\n",
        "            batch_size = batch_size # Trains with this batch size.\n",
        "        )\n",
        "\n",
        "# For validation the order doesn't matter, so we'll just read them sequentially.\n",
        "validation_dataloader = DataLoader(\n",
        "            val_dataset, # The validation samples.\n",
        "            sampler = SequentialSampler(val_dataset), # Pull out batches sequentially.\n",
        "            batch_size = batch_size # Evaluate with this batch size.\n",
        "        )"
      ],
      "execution_count": null,
      "outputs": []
    },
    {
      "cell_type": "markdown",
      "metadata": {
        "id": "qmgT0TDKULHr"
      },
      "source": [
        "### 4.5. Optimizer"
      ]
    },
    {
      "cell_type": "markdown",
      "metadata": {
        "id": "8o-VEBobKwHk"
      },
      "source": [
        "Our `model` object handles the execution of a forward pass, and the calculation of gradients during training.\n",
        "\n",
        "The actual updates to the model's weights, however, are performed by an Optimizer object. Here, we create that object and give it a reference to our model's parameters, as well as set some of our training hyperparameters.\n",
        "\n",
        "For the purposes of fine-tuning, the authors recommend the following choices of learning rates: 5e-5, 3e-5, 2e-5  (We'll use 2e-5).\n",
        "\n",
        "The epsilon parameter `eps = 1e-8` is \"a very small number to prevent any division by zero in the implementation\" (from [here](https://machinelearningmastery.com/adam-optimization-algorithm-for-deep-learning/)).\n",
        "\n",
        "You can find the creation of the AdamW optimizer in `run_glue.py` [here](https://github.com/huggingface/transformers/blob/5bfcd0485ece086ebcbed2d008813037968a9e58/examples/run_glue.py#L109)."
      ]
    },
    {
      "cell_type": "code",
      "metadata": {
        "id": "GLs72DuMODJO"
      },
      "source": [
        "# Note: AdamW is a class from the huggingface library (as opposed to pytorch)\n",
        "# I believe the 'W' stands for 'Weight Decay fix\"\n",
        "optimizer = AdamW(model.parameters(),\n",
        "                  lr = 2e-5, # args.learning_rate - default is 5e-5,\n",
        "                  eps = 1e-8 # args.adam_epsilon  - default is 1e-8.\n",
        "                )"
      ],
      "execution_count": null,
      "outputs": []
    },
    {
      "cell_type": "markdown",
      "metadata": {
        "id": "_iaG0A5quuqz"
      },
      "source": [
        "### 4.6. Epochs & Learning Rate Scheduler"
      ]
    },
    {
      "cell_type": "markdown",
      "metadata": {
        "id": "JGeSUdv_wDgF"
      },
      "source": [
        "The learning rate scheduler is responsible for updating the learning rate over the course of the training. Generally speaking, you want the learning rate to gradually get smaller and smaller so that training makes gradually finer adjustments to the weights.\n",
        "\n",
        "This decay needs to happen *across all of the training epochs*, so this is where we need to specify the number of epochs we want to train for."
      ]
    },
    {
      "cell_type": "code",
      "metadata": {
        "id": "ZoSUMnW1U4Mu"
      },
      "source": [
        "from transformers import get_linear_schedule_with_warmup\n",
        "\n",
        "# Number of training epochs (BERT authors recommend between 2 and 4)\n",
        "epochs = 3\n",
        "\n",
        "# Total number of training steps is number of batches * number of epochs.\n",
        "total_steps = len(train_dataloader) * epochs\n",
        "\n",
        "# Create the learning rate scheduler.\n",
        "scheduler = get_linear_schedule_with_warmup(optimizer,\n",
        "                                            num_warmup_steps = 0, # Default value in run_glue.py\n",
        "                                            num_training_steps = total_steps)"
      ],
      "execution_count": null,
      "outputs": []
    },
    {
      "cell_type": "markdown",
      "metadata": {
        "id": "GF2REdBeVJsp"
      },
      "source": [
        "**Helper Functions**"
      ]
    },
    {
      "cell_type": "markdown",
      "metadata": {
        "id": "KNhRtWPXH9C3"
      },
      "source": [
        "Helper function for formatting elapsed times.\n"
      ]
    },
    {
      "cell_type": "code",
      "metadata": {
        "id": "qWBru237exn4"
      },
      "source": [
        "import time\n",
        "import datetime\n",
        "\n",
        "def format_time(elapsed):\n",
        "    '''\n",
        "    Takes a time in seconds and returns a string hh:mm:ss\n",
        "    '''\n",
        "    # Round to the nearest second.\n",
        "    elapsed_rounded = int(round((elapsed)))\n",
        "\n",
        "    # Format as hh:mm:ss\n",
        "    return str(datetime.timedelta(seconds=elapsed_rounded))\n"
      ],
      "execution_count": null,
      "outputs": []
    },
    {
      "cell_type": "markdown",
      "metadata": {
        "id": "ginim8z1VX2K"
      },
      "source": [
        "Helper function to automatically pick a reasonable interval for printing out a progress update during training."
      ]
    },
    {
      "cell_type": "code",
      "metadata": {
        "id": "Do7r4TRjexrc"
      },
      "source": [
        "def good_update_interval(total_iters, num_desired_updates):\n",
        "    '''\n",
        "    This function will try to pick an intelligent progress update interval\n",
        "    based on the magnitude of the total iterations.\n",
        "\n",
        "    Parameters:\n",
        "      `total_iters` - The number of iterations in the for-loop.\n",
        "      `num_desired_updates` - How many times we want to see an update over the\n",
        "                              course of the for-loop.\n",
        "    '''\n",
        "    # Divide the total iterations by the desired number of updates. Most likely\n",
        "    # this will be some ugly number.\n",
        "    exact_interval = total_iters / num_desired_updates\n",
        "\n",
        "    # The `round` function has the ability to round down a number to, e.g., the\n",
        "    # nearest thousandth: round(exact_interval, -3)\n",
        "    #\n",
        "    # To determine the magnitude to round to, find the magnitude of the total,\n",
        "    # and then go one magnitude below that.\n",
        "\n",
        "    # Get the order of magnitude of the total.\n",
        "    order_of_mag = len(str(total_iters)) - 1\n",
        "\n",
        "    # Our update interval should be rounded to an order of magnitude smaller.\n",
        "    round_mag = order_of_mag - 1\n",
        "\n",
        "    # Round down and cast to an int.\n",
        "    update_interval = int(round(exact_interval, -round_mag))\n",
        "\n",
        "    # Don't allow the interval to be zero!\n",
        "    if update_interval == 0:\n",
        "        update_interval = 1\n",
        "\n",
        "    return update_interval"
      ],
      "execution_count": null,
      "outputs": []
    },
    {
      "cell_type": "markdown",
      "metadata": {
        "id": "1fFhFF9x2SPu"
      },
      "source": [
        "Submissions for the Toxic Comments Challenge are evaluated \"on the mean column-wise ROC AUC\". In other words, the score is the average of the individual AUCs of each predicted column.\n",
        "\n",
        "This is accomplished by setting `average='macro'` in our call to the `roc_auc_score` function from scikit-learn."
      ]
    },
    {
      "cell_type": "code",
      "metadata": {
        "id": "3tchEi_k2UAA",
        "colab": {
          "base_uri": "https://localhost:8080/",
          "height": 34
        },
        "outputId": "64194129-c4ee-4bf2-cd52-5d7eb015f66c"
      },
      "source": [
        "from sklearn.metrics import roc_auc_score\n",
        "\n",
        "# A quick example...\n",
        "true_labels = [0,1,0,0,1]\n",
        "pred_labels = [0,1,0,0,0]\n",
        "\n",
        "score = roc_auc_score(true_labels, pred_labels, average='macro')\n",
        "\n",
        "print('Example ROC AUC score:', score)"
      ],
      "execution_count": null,
      "outputs": [
        {
          "output_type": "stream",
          "text": [
            "Example ROC AUC score: 0.75\n"
          ],
          "name": "stdout"
        }
      ]
    },
    {
      "cell_type": "markdown",
      "metadata": {
        "id": "P5-THlhKepL5"
      },
      "source": [
        "### 4.7. Training loop\n",
        "\n"
      ]
    },
    {
      "cell_type": "code",
      "metadata": {
        "id": "XB06aBGEev3e",
        "colab": {
          "base_uri": "https://localhost:8080/",
          "height": 1000
        },
        "outputId": "2782a96c-8cdf-4e7a-a577-60bb906681fe"
      },
      "source": [
        "import random\n",
        "import numpy as np\n",
        "\n",
        "# This training code is based on the `run_glue.py` script here:\n",
        "# https://github.com/huggingface/transformers/blob/5bfcd0485ece086ebcbed2d008813037968a9e58/examples/run_glue.py#L128\n",
        "\n",
        "# Set the seed value all over the place to make this reproducible.\n",
        "seed_val = 42\n",
        "\n",
        "random.seed(seed_val)\n",
        "np.random.seed(seed_val)\n",
        "torch.manual_seed(seed_val)\n",
        "torch.cuda.manual_seed_all(seed_val)\n",
        "\n",
        "# We'll store a number of quantities such as training and validation loss,\n",
        "# validation accuracy, and timings.\n",
        "training_stats = []\n",
        "\n",
        "# Measure the total training time for the whole run.\n",
        "total_t0 = time.time()\n",
        "\n",
        "# For each epoch...\n",
        "for epoch_i in range(0, epochs):\n",
        "\n",
        "    # ========================================\n",
        "    #               Training\n",
        "    # ========================================\n",
        "\n",
        "    # Perform one full pass over the training set.\n",
        "\n",
        "    print(\"\")\n",
        "    print('======== Epoch {:} / {:} ========'.format(epoch_i + 1, epochs))\n",
        "    print('Training...')\n",
        "\n",
        "    # Measure how long the training epoch takes.\n",
        "    t0 = time.time()\n",
        "\n",
        "    # Reset the total loss for this epoch.\n",
        "    total_train_loss = 0\n",
        "\n",
        "    # Put the model into training mode. Don't be mislead--the call to\n",
        "    # `train` just changes the *mode*, it doesn't *perform* the training.\n",
        "    # `dropout` and `batchnorm` layers behave differently during training\n",
        "    # vs. test (source: https://stackoverflow.com/questions/51433378/what-does-model-train-do-in-pytorch)\n",
        "    model.train()\n",
        "\n",
        "    # Pick an interval on which to print progress updates.\n",
        "    update_interval = good_update_interval(\n",
        "                total_iters = len(train_dataloader),\n",
        "                num_desired_updates = 10\n",
        "            )\n",
        "\n",
        "    # For each batch of training data...\n",
        "    for step, batch in enumerate(train_dataloader):\n",
        "\n",
        "        # Progress update.\n",
        "        if (step % update_interval) == 0 and not step == 0:\n",
        "            # Calculate elapsed time in minutes.\n",
        "            elapsed = format_time(time.time() - t0)\n",
        "\n",
        "            # Report progress.\n",
        "            print('  Batch {:>5,}  of  {:>5,}.    Elapsed: {:}.'.format(step, len(train_dataloader), elapsed))\n",
        "\n",
        "        # Unpack this training batch from our dataloader.\n",
        "        #\n",
        "        # As we unpack the batch, we'll also copy each tensor to the GPU using\n",
        "        # the `to` method.\n",
        "        #\n",
        "        # `batch` contains three pytorch tensors:\n",
        "        #   [0]: input ids\n",
        "        #   [1]: attention masks\n",
        "        #   [2]: labels\n",
        "        b_input_ids = batch[0].to(device)\n",
        "        b_input_mask = batch[1].to(device)\n",
        "        b_labels = batch[2].to(device)\n",
        "\n",
        "        # Always clear any previously calculated gradients before performing a\n",
        "        # backward pass. PyTorch doesn't do this automatically because\n",
        "        # accumulating the gradients is \"convenient while training RNNs\".\n",
        "        # (source: https://stackoverflow.com/questions/48001598/why-do-we-need-to-call-zero-grad-in-pytorch)\n",
        "        model.zero_grad()\n",
        "\n",
        "        # Perform a forward pass (evaluate the model on this training batch).\n",
        "        # This call returns the loss (because we provided labels) and the\n",
        "        # \"logits\"--the model outputs prior to activation.\n",
        "        loss, logits = model(b_input_ids,\n",
        "                             token_type_ids=None,\n",
        "                             attention_mask=b_input_mask,\n",
        "                             labels=b_labels)\n",
        "\n",
        "        # Accumulate the training loss over all of the batches so that we can\n",
        "        # calculate the average loss at the end. `loss` is a Tensor containing a\n",
        "        # single value; the `.item()` function just returns the Python value\n",
        "        # from the tensor.\n",
        "        total_train_loss += loss.item()\n",
        "\n",
        "        # Perform a backward pass to calculate the gradients.\n",
        "        loss.backward()\n",
        "\n",
        "        # Clip the norm of the gradients to 1.0.\n",
        "        # This is to help prevent the \"exploding gradients\" problem.\n",
        "        torch.nn.utils.clip_grad_norm_(model.parameters(), 1.0)\n",
        "\n",
        "        # Update parameters and take a step using the computed gradient.\n",
        "        # The optimizer dictates the \"update rule\"--how the parameters are\n",
        "        # modified based on their gradients, the learning rate, etc.\n",
        "        optimizer.step()\n",
        "\n",
        "        # Update the learning rate.\n",
        "        scheduler.step()\n",
        "\n",
        "    # Calculate the average loss over all of the batches.\n",
        "    avg_train_loss = total_train_loss / len(train_dataloader)\n",
        "\n",
        "    # Measure how long this epoch took.\n",
        "    training_time = format_time(time.time() - t0)\n",
        "\n",
        "    print(\"\")\n",
        "    print(\"  Average training loss: {0:.2f}\".format(avg_train_loss))\n",
        "    print(\"  Training epcoh took: {:}\".format(training_time))\n",
        "\n",
        "\n",
        "    # ========================================\n",
        "    #               Validation\n",
        "    # ========================================\n",
        "    # After the completion of each training epoch, measure our performance on\n",
        "    # our validation set.\n",
        "\n",
        "    print(\"\")\n",
        "    print(\"Running Validation...\")\n",
        "\n",
        "    t0 = time.time()\n",
        "\n",
        "    # Put the model in evaluation mode--the dropout layers behave differently\n",
        "    # during evaluation.\n",
        "    model.eval()\n",
        "\n",
        "    # Tracking variables\n",
        "    total_eval_loss = 0\n",
        "\n",
        "    predictions, true_labels = [], []\n",
        "\n",
        "    # Evaluate data for one epoch\n",
        "    for batch in validation_dataloader:\n",
        "\n",
        "        # Unpack this training batch from our dataloader.\n",
        "        #\n",
        "        # As we unpack the batch, we'll also copy each tensor to the GPU using\n",
        "        # the `to` method.\n",
        "        #\n",
        "        # `batch` contains three pytorch tensors:\n",
        "        #   [0]: input ids\n",
        "        #   [1]: attention masks\n",
        "        #   [2]: labels\n",
        "        b_input_ids = batch[0].to(device)\n",
        "        b_input_mask = batch[1].to(device)\n",
        "        b_labels = batch[2].to(device)\n",
        "\n",
        "        # Tell pytorch not to bother with constructing the compute graph during\n",
        "        # the forward pass, since this is only needed for backprop (training).\n",
        "        with torch.no_grad():\n",
        "\n",
        "\n",
        "            # Forward pass, calculate logit predictions.\n",
        "            # token_type_ids is the same as the \"segment ids\", which\n",
        "            # differentiates sentence 1 and 2 in 2-sentence tasks.\n",
        "            # The documentation for this `model` function is here:\n",
        "            # https://huggingface.co/transformers/v2.2.0/model_doc/bert.html#transformers.BertForSequenceClassification\n",
        "            # Get the \"logits\" output by the model. The \"logits\" are the output\n",
        "            # values prior to applying an activation function like the softmax.\n",
        "            (loss, logits) = model(b_input_ids,\n",
        "                                   token_type_ids=None,\n",
        "                                   attention_mask=b_input_mask,\n",
        "                                   labels=b_labels)\n",
        "\n",
        "        # Accumulate the validation loss.\n",
        "        total_eval_loss += loss.item()\n",
        "\n",
        "        # Calculate the accuracy for this batch of test sentences.\n",
        "\n",
        "        # Move logits and labels to CPU\n",
        "        logits = logits.detach().cpu().numpy()\n",
        "        label_ids = b_labels.to('cpu').numpy()\n",
        "\n",
        "        # Store predictions and true labels\n",
        "        predictions.append(logits)\n",
        "        true_labels.append(label_ids)\n",
        "\n",
        "    # Measure validation accuracy...\n",
        "\n",
        "    # Combine the results across all batches.\n",
        "    flat_predictions = np.concatenate(predictions, axis=0)\n",
        "    flat_true_labels = np.concatenate(true_labels, axis=0)\n",
        "\n",
        "    # Calculate the validation accuracy.\n",
        "    val_accuracy = roc_auc_score(flat_true_labels, flat_predictions, average='macro')\n",
        "\n",
        "    # Report the final accuracy for this validation run.\n",
        "    print(\"  Accuracy: {0:.2f}\".format(val_accuracy))\n",
        "\n",
        "    # Calculate the average loss over all of the batches.\n",
        "    avg_val_loss = total_eval_loss / len(validation_dataloader)\n",
        "\n",
        "    # Measure how long the validation run took.\n",
        "    validation_time = format_time(time.time() - t0)\n",
        "\n",
        "    print(\"  Validation Loss: {0:.2f}\".format(avg_val_loss))\n",
        "    print(\"  Validation took: {:}\".format(validation_time))\n",
        "\n",
        "    # Record all statistics from this epoch.\n",
        "    training_stats.append(\n",
        "        {\n",
        "            'epoch': epoch_i + 1,\n",
        "            'Training Loss': avg_train_loss,\n",
        "            'Valid. Loss': avg_val_loss,\n",
        "            'Valid. Accur.': val_accuracy,\n",
        "            'Training Time': training_time,\n",
        "            'Validation Time': validation_time\n",
        "        }\n",
        "    )\n",
        "\n",
        "print(\"\")\n",
        "print(\"Training complete!\")\n",
        "\n",
        "print(\"Total training took {:} (h:mm:ss)\".format(format_time(time.time()-total_t0)))"
      ],
      "execution_count": null,
      "outputs": [
        {
          "output_type": "stream",
          "text": [
            "\n",
            "======== Epoch 1 / 3 ========\n",
            "Training...\n",
            "  Batch   900  of  8,976.    Elapsed: 0:05:43.\n",
            "  Batch 1,800  of  8,976.    Elapsed: 0:11:31.\n",
            "  Batch 2,700  of  8,976.    Elapsed: 0:17:20.\n",
            "  Batch 3,600  of  8,976.    Elapsed: 0:23:07.\n",
            "  Batch 4,500  of  8,976.    Elapsed: 0:28:55.\n",
            "  Batch 5,400  of  8,976.    Elapsed: 0:34:42.\n",
            "  Batch 6,300  of  8,976.    Elapsed: 0:40:30.\n",
            "  Batch 7,200  of  8,976.    Elapsed: 0:46:17.\n",
            "  Batch 8,100  of  8,976.    Elapsed: 0:52:04.\n",
            "\n",
            "  Average training loss: 0.05\n",
            "  Training epcoh took: 0:57:42\n",
            "\n",
            "Running Validation...\n",
            "  Accuracy: 0.99\n",
            "  Validation Loss: 0.04\n",
            "  Validation took: 0:02:13\n",
            "\n",
            "======== Epoch 2 / 3 ========\n",
            "Training...\n",
            "  Batch   900  of  8,976.    Elapsed: 0:05:47.\n",
            "  Batch 1,800  of  8,976.    Elapsed: 0:11:35.\n",
            "  Batch 2,700  of  8,976.    Elapsed: 0:17:24.\n",
            "  Batch 3,600  of  8,976.    Elapsed: 0:23:13.\n",
            "  Batch 4,500  of  8,976.    Elapsed: 0:29:02.\n",
            "  Batch 5,400  of  8,976.    Elapsed: 0:34:50.\n",
            "  Batch 6,300  of  8,976.    Elapsed: 0:40:39.\n",
            "  Batch 7,200  of  8,976.    Elapsed: 0:46:28.\n",
            "  Batch 8,100  of  8,976.    Elapsed: 0:52:16.\n",
            "\n",
            "  Average training loss: 0.03\n",
            "  Training epcoh took: 0:57:56\n",
            "\n",
            "Running Validation...\n",
            "  Accuracy: 0.99\n",
            "  Validation Loss: 0.04\n",
            "  Validation took: 0:02:14\n",
            "\n",
            "======== Epoch 3 / 3 ========\n",
            "Training...\n",
            "  Batch   900  of  8,976.    Elapsed: 0:05:48.\n",
            "  Batch 1,800  of  8,976.    Elapsed: 0:11:36.\n",
            "  Batch 2,700  of  8,976.    Elapsed: 0:17:25.\n",
            "  Batch 3,600  of  8,976.    Elapsed: 0:23:14.\n",
            "  Batch 4,500  of  8,976.    Elapsed: 0:29:02.\n",
            "  Batch 5,400  of  8,976.    Elapsed: 0:34:50.\n",
            "  Batch 6,300  of  8,976.    Elapsed: 0:40:39.\n",
            "  Batch 7,200  of  8,976.    Elapsed: 0:46:28.\n",
            "  Batch 8,100  of  8,976.    Elapsed: 0:52:16.\n",
            "\n",
            "  Average training loss: 0.02\n",
            "  Training epcoh took: 0:57:56\n",
            "\n",
            "Running Validation...\n",
            "  Accuracy: 0.99\n",
            "  Validation Loss: 0.04\n",
            "  Validation took: 0:02:14\n",
            "\n",
            "Training complete!\n",
            "Total training took 3:00:15 (h:mm:ss)\n"
          ],
          "name": "stdout"
        }
      ]
    },
    {
      "cell_type": "markdown",
      "metadata": {
        "id": "xNuteN1Fmju0"
      },
      "source": [
        "### 4.8. Training Results"
      ]
    },
    {
      "cell_type": "markdown",
      "metadata": {
        "id": "VQTvJ1vRP7u4"
      },
      "source": [
        "Let's view the summary of the training process."
      ]
    },
    {
      "cell_type": "code",
      "metadata": {
        "id": "6O_NbXFGMukX",
        "colab": {
          "base_uri": "https://localhost:8080/",
          "height": 173
        },
        "outputId": "c5aa1dc3-c888-4495-ec4d-be2cf03b896c"
      },
      "source": [
        "import pandas as pd\n",
        "\n",
        "# Display floats with two decimal places.\n",
        "pd.set_option('precision', 2)\n",
        "\n",
        "# Create a DataFrame from our training statistics.\n",
        "df_stats = pd.DataFrame(data=training_stats)\n",
        "\n",
        "# Use the 'epoch' as the row index.\n",
        "df_stats = df_stats.set_index('epoch')\n",
        "\n",
        "# A hack to force the column headers to wrap.\n",
        "#df = df.style.set_table_styles([dict(selector=\"th\",props=[('max-width', '70px')])])\n",
        "\n",
        "# Display the table.\n",
        "df_stats"
      ],
      "execution_count": null,
      "outputs": [
        {
          "output_type": "execute_result",
          "data": {
            "text/html": [
              "<div>\n",
              "<style scoped>\n",
              "    .dataframe tbody tr th:only-of-type {\n",
              "        vertical-align: middle;\n",
              "    }\n",
              "\n",
              "    .dataframe tbody tr th {\n",
              "        vertical-align: top;\n",
              "    }\n",
              "\n",
              "    .dataframe thead th {\n",
              "        text-align: right;\n",
              "    }\n",
              "</style>\n",
              "<table border=\"1\" class=\"dataframe\">\n",
              "  <thead>\n",
              "    <tr style=\"text-align: right;\">\n",
              "      <th></th>\n",
              "      <th>Training Loss</th>\n",
              "      <th>Valid. Loss</th>\n",
              "      <th>Valid. Accur.</th>\n",
              "      <th>Training Time</th>\n",
              "      <th>Validation Time</th>\n",
              "    </tr>\n",
              "    <tr>\n",
              "      <th>epoch</th>\n",
              "      <th></th>\n",
              "      <th></th>\n",
              "      <th></th>\n",
              "      <th></th>\n",
              "      <th></th>\n",
              "    </tr>\n",
              "  </thead>\n",
              "  <tbody>\n",
              "    <tr>\n",
              "      <th>1</th>\n",
              "      <td>0.05</td>\n",
              "      <td>0.04</td>\n",
              "      <td>0.99</td>\n",
              "      <td>0:57:42</td>\n",
              "      <td>0:02:13</td>\n",
              "    </tr>\n",
              "    <tr>\n",
              "      <th>2</th>\n",
              "      <td>0.03</td>\n",
              "      <td>0.04</td>\n",
              "      <td>0.99</td>\n",
              "      <td>0:57:56</td>\n",
              "      <td>0:02:14</td>\n",
              "    </tr>\n",
              "    <tr>\n",
              "      <th>3</th>\n",
              "      <td>0.02</td>\n",
              "      <td>0.04</td>\n",
              "      <td>0.99</td>\n",
              "      <td>0:57:56</td>\n",
              "      <td>0:02:14</td>\n",
              "    </tr>\n",
              "  </tbody>\n",
              "</table>\n",
              "</div>"
            ],
            "text/plain": [
              "       Training Loss  Valid. Loss  Valid. Accur. Training Time Validation Time\n",
              "epoch                                                                         \n",
              "1               0.05         0.04           0.99       0:57:42         0:02:13\n",
              "2               0.03         0.04           0.99       0:57:56         0:02:14\n",
              "3               0.02         0.04           0.99       0:57:56         0:02:14"
            ]
          },
          "metadata": {
            "tags": []
          },
          "execution_count": 38
        }
      ]
    },
    {
      "cell_type": "markdown",
      "metadata": {
        "id": "1-G03mmwH3aI"
      },
      "source": [
        "We can plot the training loss and validation loss to check if our model is overfitting.\n",
        "\n",
        "> When checking for over-fitting, loss is a better indicator than accuracy. Accuracy only takes into account whether the model's output was on the correct side of the decision threshold, whereas loss also incorporates the model's *confidence*."
      ]
    },
    {
      "cell_type": "code",
      "metadata": {
        "id": "68xreA9JAmG5",
        "colab": {
          "base_uri": "https://localhost:8080/",
          "height": 427
        },
        "outputId": "c28daffe-aec9-46fb-9685-665f49833dc4"
      },
      "source": [
        "import matplotlib.pyplot as plt\n",
        "% matplotlib inline\n",
        "\n",
        "import seaborn as sns\n",
        "\n",
        "# Use plot styling from seaborn.\n",
        "sns.set(style='darkgrid')\n",
        "\n",
        "# Increase the plot size and font size.\n",
        "sns.set(font_scale=1.5)\n",
        "plt.rcParams[\"figure.figsize\"] = (12,6)\n",
        "\n",
        "# Plot the learning curve.\n",
        "plt.plot(df_stats['Training Loss'], 'b-o', label=\"Training\")\n",
        "plt.plot(df_stats['Valid. Loss'], 'g-o', label=\"Validation\")\n",
        "\n",
        "# Label the plot.\n",
        "plt.title(\"Training & Validation Loss\")\n",
        "plt.xlabel(\"Epoch\")\n",
        "plt.ylabel(\"Loss\")\n",
        "plt.legend()\n",
        "plt.xticks([1, 2, 3, 4])\n",
        "\n",
        "plt.show()"
      ],
      "execution_count": null,
      "outputs": [
        {
          "output_type": "display_data",
          "data": {
            "image/png": "[encoded data removed]",
            "text/plain": [
              "<Figure size 864x432 with 1 Axes>"
            ]
          },
          "metadata": {
            "tags": []
          }
        }
      ]
    },
    {
      "cell_type": "markdown",
      "metadata": {
        "id": "A5KnK6dOn5p_"
      },
      "source": [
        "Looks like we're over-fitting a bit on the third epoch."
      ]
    },
    {
      "cell_type": "markdown",
      "metadata": {
        "id": "b-M5ABsu6KX6"
      },
      "source": [
        "## S5. Performance On Test Set"
      ]
    },
    {
      "cell_type": "markdown",
      "metadata": {
        "id": "4-AbUAJd6KX7"
      },
      "source": [
        "Now we'll load the holdout dataset and prepare inputs just as we did with the training set."
      ]
    },
    {
      "cell_type": "markdown",
      "metadata": {
        "id": "fiIjg4LEpPfe"
      },
      "source": [
        "### 5.1. Prepare Test Set"
      ]
    },
    {
      "cell_type": "markdown",
      "metadata": {
        "id": "eXpaLPjkuAt8"
      },
      "source": [
        "The test set contains 153,164 samples, but only includes labels for 63,978 of them. In the challenge description, they explain that this was done to \"discourage hand-labeling\"."
      ]
    },
    {
      "cell_type": "code",
      "metadata": {
        "id": "DSRCJtKPAz3W"
      },
      "source": [
        "# Load the test set files.\n",
        "test = pd.read_csv('./data/test.csv')\n",
        "test_labels = pd.read_csv('./data/test_labels.csv')\n",
        "\n",
        "print('There are {:,} total test examples.'.format(len(test)))\n",
        "\n",
        "# The unlabeled test samples are indicated by all of the label values being\n",
        "# \"-1\" for that sample.\n",
        "\n",
        "# Select only the labeled test samples.\n",
        "test = test[test_labels.toxic != - 1]\n",
        "test_labels = test_labels.loc[test_labels.toxic != -1]\n",
        "\n",
        "print('There are {:,} labeled test examples.'.format(len(test)))"
      ],
      "execution_count": null,
      "outputs": []
    },
    {
      "cell_type": "markdown",
      "metadata": {
        "id": "C1lcxgaTpQRl"
      },
      "source": [
        "**Tokenize & Encode**\n",
        "\n",
        "Encode the test set, using the same code from 3.4."
      ]
    },
    {
      "cell_type": "code",
      "metadata": {
        "id": "2xzNcsKapQRo"
      },
      "source": [
        "import torch\n",
        "\n",
        "input_ids = []\n",
        "attn_masks = []\n",
        "labels = []\n",
        "\n",
        "# ======== Encoding ========\n",
        "\n",
        "print('Encoding all {:,} test samples...'.format(len(test)))\n",
        "\n",
        "# For every test sample...\n",
        "for (index, row) in test.iterrows():\n",
        "\n",
        "    # Report progress.\n",
        "    if ((len(input_ids) % 5000) == 0):\n",
        "        print('  Tokenized {:,} comments.'.format(len(input_ids)))\n",
        "\n",
        "    # Convert sentence pairs to input IDs, with attention masks.\n",
        "    encoded_dict = tokenizer.encode_plus(row['comment_text'],  # The text to encode.\n",
        "                                        max_length=max_len,    # Pad or truncate to this lenght.\n",
        "                                        pad_to_max_length=True,\n",
        "                                        truncation=True,\n",
        "                                        return_tensors='pt')   # Return objects as PyTorch tensors.\n",
        "\n",
        "    # Add this example to our lists.\n",
        "    input_ids.append(encoded_dict['input_ids'])\n",
        "    attn_masks.append(encoded_dict['attention_mask'])\n",
        "\n",
        "print('\\nDONE. {:,} examples.'.format(len(input_ids)))\n",
        "\n",
        "# ======== List of Examples --> Tensor ========\n",
        "\n",
        "# Convert each Python list of Tensors into a 2D Tensor matrix.\n",
        "input_ids = torch.cat(input_ids, dim=0)\n",
        "attn_masks = torch.cat(attn_masks, dim=0)\n"
      ],
      "execution_count": null,
      "outputs": []
    },
    {
      "cell_type": "code",
      "metadata": {
        "id": "Jow8BTudpl56"
      },
      "source": [
        "\n",
        "# ======== Prepare Labels ========\n",
        "\n",
        "# Remove the 'id' column.\n",
        "#test_labels = test_labels[['toxic', 'severe_toxic', 'obscene', 'threat', 'insult', 'identity_hate']]\n",
        "del test_labels['id']\n",
        "\n",
        "# The labels are either 0 or 1. Despite this, we need to cast the values to\n",
        "# floats--otherwise our loss function will throw an error.\n",
        "# https://discuss.pytorch.org/t/nn-bcewithlogitsloss-cant-accept-one-hot-target/59980\n",
        "labels = test_labels.to_numpy().astype(float)\n",
        "\n",
        "# Cast the labels list to a 2D Tensor.\n",
        "labels = torch.tensor(labels)\n",
        "\n",
        "# ======== Summary ========\n",
        "\n",
        "print('\\nData structure shapes:')\n",
        "print('   input_ids:  {:}'.format(str(input_ids.shape)))\n",
        "print('  attn_masks:  {:}'.format(str(attn_masks.shape)))\n",
        "print('      labels:  {:}'.format(str(labels.shape)))"
      ],
      "execution_count": null,
      "outputs": []
    },
    {
      "cell_type": "markdown",
      "metadata": {
        "id": "JNrE5s6pqGVu"
      },
      "source": [
        "**DataLoader**\n",
        "\n",
        "Create a DataLoader to batch our test samples for us."
      ]
    },
    {
      "cell_type": "code",
      "metadata": {
        "id": "3ndz4YWSqHyV"
      },
      "source": [
        "from torch.utils.data import TensorDataset, DataLoader, SequentialSampler\n",
        "\n",
        "# Combine the training inputs into a TensorDataset.\n",
        "test_dataset = TensorDataset(input_ids, attn_masks, labels)\n",
        "\n",
        "# Specify our batch size.\n",
        "batch_size = 16\n",
        "\n",
        "# Create the DataLoader, which will select batches for us. For testing, the\n",
        "# order we evaluate the samples in doesn't matter, so we'll just use the\n",
        "# \"SequentialSampler\" to read them in order.\n",
        "test_dataloader = DataLoader(\n",
        "            test_dataset,  # The training samples.\n",
        "            sampler = SequentialSampler(test_dataset), # Select batches randomly\n",
        "            batch_size = batch_size # Trains with this batch size.\n",
        "        )\n"
      ],
      "execution_count": null,
      "outputs": []
    },
    {
      "cell_type": "markdown",
      "metadata": {
        "id": "RJJVmwstqzEn"
      },
      "source": [
        "### 5.2. Evaluate On Test Set"
      ]
    },
    {
      "cell_type": "code",
      "metadata": {
        "id": "xqNzZkUx6KYL"
      },
      "source": [
        "import time\n",
        "\n",
        "# Prediction on test set\n",
        "\n",
        "# Put model in evaluation mode\n",
        "model.eval()\n",
        "\n",
        "t0 = time.time()\n",
        "\n",
        "# Tracking variables\n",
        "predictions , true_labels = [], []\n",
        "\n",
        "print('Evaluating on {:,} test set batches...'.format(len(test_dataloader)))\n",
        "\n",
        "# Predict\n",
        "for batch in test_dataloader:\n",
        "\n",
        "    # Report progress.\n",
        "    if ((len(predictions) % 500) == 0):\n",
        "        print('  Batch {:>5,}  of  {:>5,}.'.format(len(predictions), len(test_dataloader)))\n",
        "\n",
        "    # Add batch to GPU\n",
        "    batch = tuple(t.to(device) for t in batch)\n",
        "\n",
        "    # Unpack the inputs from our dataloader\n",
        "    b_input_ids, b_input_mask, b_labels = batch\n",
        "\n",
        "    # Telling the model not to compute or store the compute graph, saving memory\n",
        "    # and speeding up prediction\n",
        "    with torch.no_grad():\n",
        "\n",
        "        # Forward pass, calculate logit predictions\n",
        "        outputs = model(b_input_ids,\n",
        "                        token_type_ids=None,\n",
        "                        attention_mask=b_input_mask)\n",
        "\n",
        "    logits = outputs[0]\n",
        "\n",
        "    # Move logits and labels to CPU\n",
        "    logits = logits.detach().cpu().numpy()\n",
        "    label_ids = b_labels.to('cpu').numpy()\n",
        "\n",
        "    # Store predictions and true labels\n",
        "    predictions.append(logits)\n",
        "    true_labels.append(label_ids)\n",
        "\n",
        "print('    DONE.')\n",
        "\n",
        "print('Evaluation took {:.0f} seconds.'.format(time.time() - t0))"
      ],
      "execution_count": null,
      "outputs": []
    },
    {
      "cell_type": "markdown",
      "metadata": {
        "id": "iJoh2shgrVx0"
      },
      "source": [
        "We collected the predictions in batches, so now we just need to recombine them."
      ]
    },
    {
      "cell_type": "code",
      "metadata": {
        "id": "DFcP525n6KYN"
      },
      "source": [
        "# Combine the results across all batches.\n",
        "flat_predictions = np.concatenate(predictions, axis=0)\n",
        "flat_true_labels = np.concatenate(true_labels, axis=0)"
      ],
      "execution_count": null,
      "outputs": []
    },
    {
      "cell_type": "markdown",
      "metadata": {
        "id": "I5zp9DnVroQU"
      },
      "source": [
        "### 5.3. Score Results"
      ]
    },
    {
      "cell_type": "markdown",
      "metadata": {
        "id": "5WcP_WxxrcRJ"
      },
      "source": [
        "Let's take a look at the model outputs for one of the test samples.\n",
        "\n",
        "Most samples don't contain anything toxic, so let's find one that actually does."
      ]
    },
    {
      "cell_type": "code",
      "metadata": {
        "id": "TGDCd5xurlll",
        "colab": {
          "base_uri": "https://localhost:8080/",
          "height": 51
        },
        "outputId": "95b7108a-a77b-48ef-b5e9-0c976e12b7e3"
      },
      "source": [
        "# For every test sample...\n",
        "for test_i in range(0, len(test)):\n",
        "\n",
        "    # Break if it has at least one label set.\n",
        "    if np.any(flat_true_labels[test_i, :]):\n",
        "        break\n",
        "\n",
        "print('Test sample: {:,}\\n'.format(test_i))"
      ],
      "execution_count": null,
      "outputs": [
        {
          "output_type": "stream",
          "text": [
            "Test sample: 8\n",
            "\n"
          ],
          "name": "stdout"
        }
      ]
    },
    {
      "cell_type": "markdown",
      "metadata": {
        "id": "4zlsscrsxLCd"
      },
      "source": [
        "Now we can look at the model's predictions vs. the correct labels for this test sample."
      ]
    },
    {
      "cell_type": "code",
      "metadata": {
        "id": "ZP4WyEvjw8OC",
        "colab": {
          "base_uri": "https://localhost:8080/",
          "height": 153
        },
        "outputId": "46e83750-7758-4d50-92f0-29040cfc2738"
      },
      "source": [
        "# Print out model predictions vs. correct values for this test sample.\n",
        "print('           Type   Output   Truth')\n",
        "print('           ----   ------   -----')\n",
        "\n",
        "for label_i in range(0, 6):\n",
        "    print('{:>15}   {:>5.2f}      {:}'.format(\n",
        "        label_cols[label_i], # Label name\n",
        "        flat_predictions[test_i, label_i], # Model's prediction\n",
        "        int(flat_true_labels[test_i, label_i]))) # Correct label\n",
        ""
      ],
      "execution_count": null,
      "outputs": [
        {
          "output_type": "stream",
          "text": [
            "           Type   Output   Truth\n",
            "           ----   ------   -----\n",
            "          toxic    4.05      1\n",
            "   severe_toxic   -4.55      0\n",
            "        obscene   -3.39      0\n",
            "         threat   -3.10      0\n",
            "         insult   -1.96      0\n",
            "  identity_hate   -0.35      0\n"
          ],
          "name": "stdout"
        }
      ]
    },
    {
      "cell_type": "markdown",
      "metadata": {
        "id": "gvBEfONsxT00"
      },
      "source": [
        "Interpreting the accuracy of these predictions requires choosing a threshold confidence value. Since the labels were trained as either 0 or 1, then using a threshold of 0.5 seems like a reasonable first choice.\n",
        "\n",
        "By that threshold, our model got all of the labels correct!"
      ]
    },
    {
      "cell_type": "markdown",
      "metadata": {
        "id": "vqziKHN0ynMO"
      },
      "source": [
        "**ROC AUC**"
      ]
    },
    {
      "cell_type": "markdown",
      "metadata": {
        "id": "A2UFegBhy5Ia"
      },
      "source": [
        "The accuracy metric chosen by the authors for this dataset is the \"ROC AUC\" (Receiver Operating Characteristic, Area Under the Curve) rather than straight accuracy (number right / total examples).\n",
        "\n",
        "The ROC AUC takes into account the fact that you can adjust the threshold to trade off false positives and false negatives, and yields a score which tries to capture overall accuracy independent of where you choose to put that threshold."
      ]
    },
    {
      "cell_type": "code",
      "metadata": {
        "id": "pzdDHGZU6KYV",
        "colab": {
          "base_uri": "https://localhost:8080/",
          "height": 34
        },
        "outputId": "08bc168d-043c-4497-f19e-361c40ab332d"
      },
      "source": [
        "# Calcualte the ROC AUC score for our model's predictions.\n",
        "score = roc_auc_score(flat_true_labels, flat_predictions)\n",
        "\n",
        "print('ROC AUC: {:.4f}'.format(score))"
      ],
      "execution_count": null,
      "outputs": [
        {
          "output_type": "stream",
          "text": [
            "ROC AUC: 0.9835\n"
          ],
          "name": "stdout"
        }
      ]
    },
    {
      "cell_type": "markdown",
      "metadata": {
        "id": "3pbIUpHZC-4O"
      },
      "source": [
        "## Appendix"
      ]
    },
    {
      "cell_type": "markdown",
      "metadata": {
        "id": "YUmsUOIv8EUO"
      },
      "source": [
        "### A.1. Saving Our Trained Model\n"
      ]
    },
    {
      "cell_type": "markdown",
      "metadata": {
        "id": "P27hPsmepmLJ"
      },
      "source": [
        "To back up our model, we need to:\n",
        "1. Save the model to disk.\n",
        "2. Copy the model to our Google Drive."
      ]
    },
    {
      "cell_type": "code",
      "metadata": {
        "id": "6ulTWaOr8QNY",
        "colab": {
          "base_uri": "https://localhost:8080/",
          "height": 34
        },
        "outputId": "5e32044c-0fa6-480f-d623-fe28645c2957"
      },
      "source": [
        "import os\n",
        "\n",
        "output_dir = './model_save/'\n",
        "\n",
        "# Create output directory if needed\n",
        "if not os.path.exists(output_dir):\n",
        "    os.makedirs(output_dir)\n",
        "\n",
        "print(\"Saving model to %s\" % output_dir)\n",
        "\n",
        "# Save a trained model using `save_pretrained()`.\n",
        "# They can then be reloaded using `from_pretrained()`\n",
        "model.save_pretrained(output_dir)\n"
      ],
      "execution_count": null,
      "outputs": [
        {
          "output_type": "stream",
          "text": [
            "Saving model to ./model_save/\n"
          ],
          "name": "stdout"
        }
      ]
    },
    {
      "cell_type": "markdown",
      "metadata": {
        "id": "dzGKvOFAll_e"
      },
      "source": [
        "To save your model across Colab Notebook sessions, download it to your local machine, or ideally copy it to your Google Drive."
      ]
    },
    {
      "cell_type": "code",
      "metadata": {
        "id": "Trr-A-POC18_",
        "colab": {
          "base_uri": "https://localhost:8080/",
          "height": 122
        },
        "outputId": "bd8fc0a3-1aad-427d-f934-c9d11ac06377"
      },
      "source": [
        "# Mount Google Drive to this Notebook instance.\n",
        "from google.colab import drive\n",
        "drive.mount('/content/drive')"
      ],
      "execution_count": null,
      "outputs": [
        {
          "output_type": "stream",
          "text": [
            "Go to this URL in a browser: https://accounts.google.com/o/oauth2/auth?client_id=947318989803-6bn6qk8qdgf4n4g3pfee6491hc0brc4i.apps.googleusercontent.com&redirect_uri=urn%3aietf%3awg%3aoauth%3a2.0%3aoob&scope=email%20https%3a%2f%2fwww.googleapis.com%2fauth%2fdocs.test%20https%3a%2f%2fwww.googleapis.com%2fauth%2fdrive%20https%3a%2f%2fwww.googleapis.com%2fauth%2fdrive.photos.readonly%20https%3a%2f%2fwww.googleapis.com%2fauth%2fpeopleapi.readonly&response_type=code\n",
            "\n",
            "Enter your authorization code:\n",
            "··········\n",
            "Mounted at /content/drive\n"
          ],
          "name": "stdout"
        }
      ]
    },
    {
      "cell_type": "code",
      "metadata": {
        "id": "8ICGoQaToRPN",
        "colab": {
          "base_uri": "https://localhost:8080/",
          "height": 102
        },
        "outputId": "8954d185-e2ab-4a1b-bd88-ff66006beed8"
      },
      "source": [
        "!ls \"./drive/Shared drives/ChrisMcCormick.AI/Content/2020-08-25 - Multilabel Toxic Comments Challenge/release/\""
      ],
      "execution_count": null,
      "outputs": [
        {
          "output_type": "stream",
          "text": [
            "'BERT Multi-Label Classification - Toxic Comments.ipynb'\n",
            "'Multiclass loss.png'\n",
            "'multiclass multilabel one hots.png'\n",
            "'Multilabel Illustrations.pptx'\n",
            "'Multilabel loss.png'\n"
          ],
          "name": "stdout"
        }
      ]
    },
    {
      "cell_type": "code",
      "metadata": {
        "id": "NxlZsafTC-V5"
      },
      "source": [
        "gdrive_path = \"./drive/Shared drives/ChrisMcCormick.AI/Content/2020-08-25 - Multilabel Toxic Comments Challenge/release/\"\n",
        "\n",
        "# Create output directory if needed\n",
        "if not os.path.exists(gdrive_path):\n",
        "    os.makedirs(gdrive_path)\n",
        "\n",
        "# Copy the model files to a directory in your Google Drive.\n",
        "!cp -r \"./model_save/\" \"./drive/Shared drives/ChrisMcCormick.AI/Content/2020-08-25 - Multilabel Toxic Comments Challenge/release/\""
      ],
      "execution_count": null,
      "outputs": []
    },
    {
      "cell_type": "markdown",
      "metadata": {
        "id": "kuIDqhbOo4nq"
      },
      "source": [
        "### A.2. Baseline ROC AUC Accuracy"
      ]
    },
    {
      "cell_type": "markdown",
      "metadata": {
        "id": "yJep-nMizOph"
      },
      "source": [
        "A good way to sanity check a performance score is to see how well you would do using just random guessing.\n",
        "\n",
        "In this case, we know that the classes are very imbalanced, and that ~90% of the comments don't contain anything toxic.\n",
        "\n",
        "If we just predicted zero for every test sample...\n"
      ]
    },
    {
      "cell_type": "code",
      "metadata": {
        "id": "8H6YWY9z0MYs",
        "colab": {
          "base_uri": "https://localhost:8080/",
          "height": 34
        },
        "outputId": "59b2517b-7b9a-4f72-b414-af870dd03df4"
      },
      "source": [
        "zero_preds = np.zeros(flat_predictions.shape)\n",
        "\n",
        "# Calcualte the ROC AUC score for predicting all 0s.\n",
        "score = roc_auc_score(flat_true_labels, zero_preds)\n",
        "\n",
        "print('Predict all zeros --> ROC AUC: {:.3f}'.format(score))"
      ],
      "execution_count": null,
      "outputs": [
        {
          "output_type": "stream",
          "text": [
            "All Zeros, ROC AUC: 0.500\n"
          ],
          "name": "stdout"
        }
      ]
    },
    {
      "cell_type": "markdown",
      "metadata": {
        "id": "44zqHWvA0dbH"
      },
      "source": [
        "We can do a little better by predicting labels with the same frequency that they occur in the dataset. The `random.choices` function will help us with this."
      ]
    },
    {
      "cell_type": "code",
      "metadata": {
        "id": "3WGImVpq0lOm",
        "colab": {
          "base_uri": "https://localhost:8080/",
          "height": 34
        },
        "outputId": "86217540-0d05-4447-bdde-4b9bf708c5a9"
      },
      "source": [
        "from random import choices\n",
        "\n",
        "# The numbers for 'choices' to pick from.\n",
        "population = [0, 1]\n",
        "\n",
        "# How many test samples are there?\n",
        "num_test = flat_true_labels.shape[0]\n",
        "\n",
        "# Store predictions based on proportions.\n",
        "prop_preds = []\n",
        "\n",
        "# For each of the 6 labels...\n",
        "for count in label_counts[0:6]:\n",
        "\n",
        "    # What percentage of the samples have this label set?\n",
        "    prcnt_1 = count / 159571\n",
        "\n",
        "    # ...and not set?\n",
        "    prcnt_0 = 1 - prcnt_1\n",
        "\n",
        "    # Use these percentages as the probabilities for picking\n",
        "    # either 0 or 1.\n",
        "    weights = [prcnt_0, prcnt_1]\n",
        "\n",
        "    # Choices will make the \"predictions\" for us for this label.\n",
        "    prop_preds_label = choices(population, weights, k = num_test)\n",
        "\n",
        "    # Add the predictions for this label to the list.\n",
        "    prop_preds.append(prop_preds_label)\n",
        "\n",
        "# Convert to a matrix of [samples x labels]\n",
        "prop_preds = np.asarray(prop_preds).transpose()\n",
        "\n",
        "# Calcualte the ROC AUC score for predicting based on class frequencies.\n",
        "score = roc_auc_score(flat_true_labels, prop_preds)\n",
        "\n",
        "print('Predict by class frequency --> ROC AUC: {:.3f}'.format(score))"
      ],
      "execution_count": null,
      "outputs": [
        {
          "output_type": "stream",
          "text": [
            "Predict by class frequency --> ROC AUC: 0.503\n"
          ],
          "name": "stdout"
        }
      ]
    },
    {
      "cell_type": "markdown",
      "metadata": {
        "id": "1z-6IzN34T9z"
      },
      "source": [
        "Not much better!"
      ]
    },
    {
      "cell_type": "markdown",
      "metadata": {
        "id": "Qxi0mOhbmRLi"
      },
      "source": [
        "### A.3. Referenced Examples\n"
      ]
    },
    {
      "cell_type": "markdown",
      "metadata": {
        "id": "7le0kcOSny2F"
      },
      "source": [
        "\n",
        "**Multiclass Classification**\n",
        "* Demonstrates a technique for quickly determining if document length is impacting your accuracy.\n",
        "* Explores the impact of batch size and sequence length on GPU memory usage (and limits!), training speed, and model accuracy.\n",
        "* Available for purchase [here](https://bit.ly/3iTYCfm).\n",
        "* Existing owners (including BERT Collection owners) can go directly to the product [here](https://www.chrismccormick.ai/products/bert-multi-class-text-classification-tutorial-with-code).\n",
        "\n"
      ]
    },
    {
      "cell_type": "markdown",
      "metadata": {
        "id": "sJHwVSG4K_66"
      },
      "source": [
        "**Document Classification**\n",
        "* Free YouTube tutorial [here](https://youtu.be/_eSGWNqKeeY).\n",
        "* Notebook available for purchase [here](https://www.chrismccormick.ai/offers/uzNxadxB/checkout).\n",
        "* Existing owners (including BERT Collection owners) can go directly to the product [here](https://www.chrismccormick.ai/products/bert-document-classification-tutorial-with-code)."
      ]
    },
    {
      "cell_type": "markdown",
      "metadata": {
        "id": "6lVqs7Z_z3TG"
      },
      "source": [
        "### A.4. SoftMax and Sigmoid functions"
      ]
    },
    {
      "cell_type": "markdown",
      "metadata": {
        "id": "mpjfXTyCIi0F"
      },
      "source": [
        "The below cells show the implementation of the SoftMax and sigmoid activation functions, using the same logits values."
      ]
    },
    {
      "cell_type": "code",
      "metadata": {
        "id": "DdtbNpBYwVwX",
        "colab": {
          "base_uri": "https://localhost:8080/",
          "height": 272
        },
        "outputId": "49a1597b-d7f2-446b-a70e-e44cbcfe93a0"
      },
      "source": [
        "import numpy as np\n",
        "\n",
        "# Some hardcoded logits, just for demonstration.\n",
        "logits = [4.05, -4.55, -3.39, -3.10, -1.96, 0.35]\n",
        "logits = np.asarray(logits)\n",
        "\n",
        "# ======== SoftMax ========\n",
        "\n",
        "# SoftMax is e^x / sum(e^x)\n",
        "out = np.exp(logits) / np.sum(np.exp(logits))\n",
        "\n",
        "print('SoftMax scores:')\n",
        "\n",
        "# Print the final scores.\n",
        "for o in out:\n",
        "    print('  {:.5f}'.format(o))\n",
        "\n",
        "# ======== sigmoid ========\n",
        "\n",
        "# sigmoid is 1 / (1 + e^x)\n",
        "out = 1 / (1 + np.exp(-logits))\n",
        "\n",
        "print('\\nsigmoid scores:')\n",
        "\n",
        "# Print the final scores\n",
        "for o in out:\n",
        "    print('  {:.5f}'.format(o))\n"
      ],
      "execution_count": null,
      "outputs": [
        {
          "output_type": "stream",
          "text": [
            "SoftMax scores:\n",
            "  0.97207\n",
            "  0.00018\n",
            "  0.00057\n",
            "  0.00076\n",
            "  0.00239\n",
            "  0.02403\n",
            "\n",
            "sigmoid scores:\n",
            "  0.98288\n",
            "  0.01046\n",
            "  0.03261\n",
            "  0.04311\n",
            "  0.12347\n",
            "  0.58662\n"
          ],
          "name": "stdout"
        }
      ]
    }
  ]
}