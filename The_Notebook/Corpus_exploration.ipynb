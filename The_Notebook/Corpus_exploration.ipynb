{
 "cells": [
  {
   "cell_type": "code",
   "execution_count": 1,
   "id": "6263a579-f9f4-4861-a4e9-e49aa2925f4d",
   "metadata": {},
   "outputs": [
    {
     "name": "stdout",
     "output_type": "stream",
     "text": [
      "Dataset already exists at /home/sqt2/.convokit/downloads/conversations-gone-awry-corpus\n"
     ]
    }
   ],
   "source": [
    "from convokit import download, Corpus\n",
    "corpus = Corpus(filename=download(\"conversations-gone-awry-corpus\"))"
   ]
  },
  {
   "cell_type": "code",
   "execution_count": 3,
   "id": "07a4cc7a-8af6-41ca-b82f-4e5f674c360b",
   "metadata": {},
   "outputs": [
    {
     "name": "stdout",
     "output_type": "stream",
     "text": [
      "Conversation('id': '240149353.16332.16332', 'utterances': ['240149353.16332.16332', '240149353.16340.16332', '240153963.16690.16690', '240786321.13311.13311'], 'meta': ConvoKitMeta({'page_title': 'User talk:Orangemike', 'page_id': 10168078, 'pair_id': '241131342.18768.18523', 'conversation_has_personal_attack': False, 'verified': True, 'pair_verified': True, 'annotation_year': '2018', 'split': 'test'}))\n"
     ]
    }
   ],
   "source": [
    "for convo in corpus.iter_conversations():\n",
    "    if convo.meta['split'] == 'test':\n",
    "        print(convo)\n",
    "        break"
   ]
  },
  {
   "cell_type": "code",
   "execution_count": null,
   "id": "42d5f915-4398-4f81-b69b-a94dfc2a24d7",
   "metadata": {},
   "outputs": [],
   "source": []
  }
 ],
 "metadata": {
  "kernelspec": {
   "display_name": "jacq-zissou-env-3.11",
   "language": "python",
   "name": "jacq-zissou-env-3.11"
  },
  "language_info": {
   "codemirror_mode": {
    "name": "ipython",
    "version": 3
   },
   "file_extension": ".py",
   "mimetype": "text/x-python",
   "name": "python",
   "nbconvert_exporter": "python",
   "pygments_lexer": "ipython3",
   "version": "3.11.8"
  }
 },
 "nbformat": 4,
 "nbformat_minor": 5
}
